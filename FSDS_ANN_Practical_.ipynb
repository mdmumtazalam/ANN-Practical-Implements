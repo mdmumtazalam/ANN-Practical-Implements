{
  "nbformat": 4,
  "nbformat_minor": 0,
  "metadata": {
    "colab": {
      "provenance": []
    },
    "kernelspec": {
      "name": "python3",
      "display_name": "Python 3"
    },
    "language_info": {
      "name": "python"
    },
    "accelerator": "GPU",
    "gpuClass": "standard"
  },
  "cells": [
    {
      "cell_type": "code",
      "execution_count": null,
      "metadata": {
        "colab": {
          "base_uri": "https://localhost:8080/"
        },
        "id": "EorpxeTHvivt",
        "outputId": "5de2dfd6-8058-4cce-8179-ae5aeaf1d1d9"
      },
      "outputs": [
        {
          "output_type": "stream",
          "name": "stdout",
          "text": [
            "2.9.2\n"
          ]
        }
      ],
      "source": [
        "import tensorflow\n",
        "print(tensorflow.__version__)"
      ]
    },
    {
      "cell_type": "code",
      "source": [
        "# Importing the libraries\n",
        "import numpy as np\n",
        "import matplotlib.pyplot as plt\n",
        "import pandas as pd"
      ],
      "metadata": {
        "id": "2L9LjKWYxMjj"
      },
      "execution_count": null,
      "outputs": []
    },
    {
      "cell_type": "code",
      "source": [
        "dataset=pd.read_csv(\"/content/aps_data.csv\")"
      ],
      "metadata": {
        "colab": {
          "base_uri": "https://localhost:8080/"
        },
        "id": "5rZUMnUTw_GZ",
        "outputId": "1abb524b-583b-4b86-9318-4a96d401c5dd"
      },
      "execution_count": null,
      "outputs": [
        {
          "output_type": "stream",
          "name": "stderr",
          "text": [
            "/usr/local/lib/python3.8/dist-packages/IPython/core/interactiveshell.py:3326: DtypeWarning: Columns (81) have mixed types.Specify dtype option on import or set low_memory=False.\n",
            "  exec(code_obj, self.user_global_ns, self.user_ns)\n"
          ]
        }
      ]
    },
    {
      "cell_type": "code",
      "source": [],
      "metadata": {
        "id": "Guu2qAmEw_Jz"
      },
      "execution_count": null,
      "outputs": []
    },
    {
      "cell_type": "code",
      "source": [
        "dataset"
      ],
      "metadata": {
        "colab": {
          "base_uri": "https://localhost:8080/",
          "height": 487
        },
        "id": "fEpkCJ-frBa4",
        "outputId": "790f9fda-3da7-4b73-afe6-8373a416750d"
      },
      "execution_count": null,
      "outputs": [
        {
          "output_type": "execute_result",
          "data": {
            "text/plain": [
              "     class  aa_000 ab_000      ac_000 ad_000 ae_000 af_000 ag_000 ag_001  \\\n",
              "0      neg       6      0           0      0      0      0      0      0   \n",
              "1      neg      90      0           0     66      0      0      0      0   \n",
              "2      neg      30     na          16     14      0      0      0      0   \n",
              "3      neg     444     na          14     12      0      0      0      0   \n",
              "4      neg      82     na          12     10      0      0      0      0   \n",
              "...    ...     ...    ...         ...    ...    ...    ...    ...    ...   \n",
              "4995   neg   31394     na           0     na      0      0      0      0   \n",
              "4996   neg    1598     na           0     na      0      0      0      0   \n",
              "4997   neg      42      2  2130706454     56      0      0      0      0   \n",
              "4998   neg   32752     na           0     na      0      0      0      0   \n",
              "4999   neg     616      6          58     54      0      0      0      0   \n",
              "\n",
              "     ag_002  ...  ee_002  ee_003  ee_004  ee_005  ee_006 ee_007 ee_008 ee_009  \\\n",
              "0         0  ...      26       8      26      52       0      0      0      0   \n",
              "1         0  ...    1268     526     554     300     118    260      0      0   \n",
              "2         0  ...     480      84      74      50      46      0      0      0   \n",
              "3         0  ...    1614    1144    3598    2460    1258   8524    110      0   \n",
              "4      1464  ...    1010     132     310      56      92   1292      0      0   \n",
              "...     ...  ...     ...     ...     ...     ...     ...    ...    ...    ...   \n",
              "4995      0  ...  393008  207182  367634  267778  106778  48688  57146    638   \n",
              "4996      0  ...    5298    3164    9710   47042    2296   1098   3288    272   \n",
              "4997      0  ...     660     272     334      76      14      0      0      0   \n",
              "4998      0  ...  533772   37122   56252   23188    1138    134     22      0   \n",
              "4999      0  ...    4630    2268    4594    2760    2108   9308     64      0   \n",
              "\n",
              "     ef_000 eg_000  \n",
              "0         0      0  \n",
              "1         0      0  \n",
              "2         0      0  \n",
              "3         0      0  \n",
              "4         0      0  \n",
              "...     ...    ...  \n",
              "4995      0      0  \n",
              "4996      0      0  \n",
              "4997      0      0  \n",
              "4998      0      0  \n",
              "4999      0      0  \n",
              "\n",
              "[5000 rows x 171 columns]"
            ],
            "text/html": [
              "\n",
              "  <div id=\"df-556bd384-7b62-466c-bf69-9a54bb15bbee\">\n",
              "    <div class=\"colab-df-container\">\n",
              "      <div>\n",
              "<style scoped>\n",
              "    .dataframe tbody tr th:only-of-type {\n",
              "        vertical-align: middle;\n",
              "    }\n",
              "\n",
              "    .dataframe tbody tr th {\n",
              "        vertical-align: top;\n",
              "    }\n",
              "\n",
              "    .dataframe thead th {\n",
              "        text-align: right;\n",
              "    }\n",
              "</style>\n",
              "<table border=\"1\" class=\"dataframe\">\n",
              "  <thead>\n",
              "    <tr style=\"text-align: right;\">\n",
              "      <th></th>\n",
              "      <th>class</th>\n",
              "      <th>aa_000</th>\n",
              "      <th>ab_000</th>\n",
              "      <th>ac_000</th>\n",
              "      <th>ad_000</th>\n",
              "      <th>ae_000</th>\n",
              "      <th>af_000</th>\n",
              "      <th>ag_000</th>\n",
              "      <th>ag_001</th>\n",
              "      <th>ag_002</th>\n",
              "      <th>...</th>\n",
              "      <th>ee_002</th>\n",
              "      <th>ee_003</th>\n",
              "      <th>ee_004</th>\n",
              "      <th>ee_005</th>\n",
              "      <th>ee_006</th>\n",
              "      <th>ee_007</th>\n",
              "      <th>ee_008</th>\n",
              "      <th>ee_009</th>\n",
              "      <th>ef_000</th>\n",
              "      <th>eg_000</th>\n",
              "    </tr>\n",
              "  </thead>\n",
              "  <tbody>\n",
              "    <tr>\n",
              "      <th>0</th>\n",
              "      <td>neg</td>\n",
              "      <td>6</td>\n",
              "      <td>0</td>\n",
              "      <td>0</td>\n",
              "      <td>0</td>\n",
              "      <td>0</td>\n",
              "      <td>0</td>\n",
              "      <td>0</td>\n",
              "      <td>0</td>\n",
              "      <td>0</td>\n",
              "      <td>...</td>\n",
              "      <td>26</td>\n",
              "      <td>8</td>\n",
              "      <td>26</td>\n",
              "      <td>52</td>\n",
              "      <td>0</td>\n",
              "      <td>0</td>\n",
              "      <td>0</td>\n",
              "      <td>0</td>\n",
              "      <td>0</td>\n",
              "      <td>0</td>\n",
              "    </tr>\n",
              "    <tr>\n",
              "      <th>1</th>\n",
              "      <td>neg</td>\n",
              "      <td>90</td>\n",
              "      <td>0</td>\n",
              "      <td>0</td>\n",
              "      <td>66</td>\n",
              "      <td>0</td>\n",
              "      <td>0</td>\n",
              "      <td>0</td>\n",
              "      <td>0</td>\n",
              "      <td>0</td>\n",
              "      <td>...</td>\n",
              "      <td>1268</td>\n",
              "      <td>526</td>\n",
              "      <td>554</td>\n",
              "      <td>300</td>\n",
              "      <td>118</td>\n",
              "      <td>260</td>\n",
              "      <td>0</td>\n",
              "      <td>0</td>\n",
              "      <td>0</td>\n",
              "      <td>0</td>\n",
              "    </tr>\n",
              "    <tr>\n",
              "      <th>2</th>\n",
              "      <td>neg</td>\n",
              "      <td>30</td>\n",
              "      <td>na</td>\n",
              "      <td>16</td>\n",
              "      <td>14</td>\n",
              "      <td>0</td>\n",
              "      <td>0</td>\n",
              "      <td>0</td>\n",
              "      <td>0</td>\n",
              "      <td>0</td>\n",
              "      <td>...</td>\n",
              "      <td>480</td>\n",
              "      <td>84</td>\n",
              "      <td>74</td>\n",
              "      <td>50</td>\n",
              "      <td>46</td>\n",
              "      <td>0</td>\n",
              "      <td>0</td>\n",
              "      <td>0</td>\n",
              "      <td>0</td>\n",
              "      <td>0</td>\n",
              "    </tr>\n",
              "    <tr>\n",
              "      <th>3</th>\n",
              "      <td>neg</td>\n",
              "      <td>444</td>\n",
              "      <td>na</td>\n",
              "      <td>14</td>\n",
              "      <td>12</td>\n",
              "      <td>0</td>\n",
              "      <td>0</td>\n",
              "      <td>0</td>\n",
              "      <td>0</td>\n",
              "      <td>0</td>\n",
              "      <td>...</td>\n",
              "      <td>1614</td>\n",
              "      <td>1144</td>\n",
              "      <td>3598</td>\n",
              "      <td>2460</td>\n",
              "      <td>1258</td>\n",
              "      <td>8524</td>\n",
              "      <td>110</td>\n",
              "      <td>0</td>\n",
              "      <td>0</td>\n",
              "      <td>0</td>\n",
              "    </tr>\n",
              "    <tr>\n",
              "      <th>4</th>\n",
              "      <td>neg</td>\n",
              "      <td>82</td>\n",
              "      <td>na</td>\n",
              "      <td>12</td>\n",
              "      <td>10</td>\n",
              "      <td>0</td>\n",
              "      <td>0</td>\n",
              "      <td>0</td>\n",
              "      <td>0</td>\n",
              "      <td>1464</td>\n",
              "      <td>...</td>\n",
              "      <td>1010</td>\n",
              "      <td>132</td>\n",
              "      <td>310</td>\n",
              "      <td>56</td>\n",
              "      <td>92</td>\n",
              "      <td>1292</td>\n",
              "      <td>0</td>\n",
              "      <td>0</td>\n",
              "      <td>0</td>\n",
              "      <td>0</td>\n",
              "    </tr>\n",
              "    <tr>\n",
              "      <th>...</th>\n",
              "      <td>...</td>\n",
              "      <td>...</td>\n",
              "      <td>...</td>\n",
              "      <td>...</td>\n",
              "      <td>...</td>\n",
              "      <td>...</td>\n",
              "      <td>...</td>\n",
              "      <td>...</td>\n",
              "      <td>...</td>\n",
              "      <td>...</td>\n",
              "      <td>...</td>\n",
              "      <td>...</td>\n",
              "      <td>...</td>\n",
              "      <td>...</td>\n",
              "      <td>...</td>\n",
              "      <td>...</td>\n",
              "      <td>...</td>\n",
              "      <td>...</td>\n",
              "      <td>...</td>\n",
              "      <td>...</td>\n",
              "      <td>...</td>\n",
              "    </tr>\n",
              "    <tr>\n",
              "      <th>4995</th>\n",
              "      <td>neg</td>\n",
              "      <td>31394</td>\n",
              "      <td>na</td>\n",
              "      <td>0</td>\n",
              "      <td>na</td>\n",
              "      <td>0</td>\n",
              "      <td>0</td>\n",
              "      <td>0</td>\n",
              "      <td>0</td>\n",
              "      <td>0</td>\n",
              "      <td>...</td>\n",
              "      <td>393008</td>\n",
              "      <td>207182</td>\n",
              "      <td>367634</td>\n",
              "      <td>267778</td>\n",
              "      <td>106778</td>\n",
              "      <td>48688</td>\n",
              "      <td>57146</td>\n",
              "      <td>638</td>\n",
              "      <td>0</td>\n",
              "      <td>0</td>\n",
              "    </tr>\n",
              "    <tr>\n",
              "      <th>4996</th>\n",
              "      <td>neg</td>\n",
              "      <td>1598</td>\n",
              "      <td>na</td>\n",
              "      <td>0</td>\n",
              "      <td>na</td>\n",
              "      <td>0</td>\n",
              "      <td>0</td>\n",
              "      <td>0</td>\n",
              "      <td>0</td>\n",
              "      <td>0</td>\n",
              "      <td>...</td>\n",
              "      <td>5298</td>\n",
              "      <td>3164</td>\n",
              "      <td>9710</td>\n",
              "      <td>47042</td>\n",
              "      <td>2296</td>\n",
              "      <td>1098</td>\n",
              "      <td>3288</td>\n",
              "      <td>272</td>\n",
              "      <td>0</td>\n",
              "      <td>0</td>\n",
              "    </tr>\n",
              "    <tr>\n",
              "      <th>4997</th>\n",
              "      <td>neg</td>\n",
              "      <td>42</td>\n",
              "      <td>2</td>\n",
              "      <td>2130706454</td>\n",
              "      <td>56</td>\n",
              "      <td>0</td>\n",
              "      <td>0</td>\n",
              "      <td>0</td>\n",
              "      <td>0</td>\n",
              "      <td>0</td>\n",
              "      <td>...</td>\n",
              "      <td>660</td>\n",
              "      <td>272</td>\n",
              "      <td>334</td>\n",
              "      <td>76</td>\n",
              "      <td>14</td>\n",
              "      <td>0</td>\n",
              "      <td>0</td>\n",
              "      <td>0</td>\n",
              "      <td>0</td>\n",
              "      <td>0</td>\n",
              "    </tr>\n",
              "    <tr>\n",
              "      <th>4998</th>\n",
              "      <td>neg</td>\n",
              "      <td>32752</td>\n",
              "      <td>na</td>\n",
              "      <td>0</td>\n",
              "      <td>na</td>\n",
              "      <td>0</td>\n",
              "      <td>0</td>\n",
              "      <td>0</td>\n",
              "      <td>0</td>\n",
              "      <td>0</td>\n",
              "      <td>...</td>\n",
              "      <td>533772</td>\n",
              "      <td>37122</td>\n",
              "      <td>56252</td>\n",
              "      <td>23188</td>\n",
              "      <td>1138</td>\n",
              "      <td>134</td>\n",
              "      <td>22</td>\n",
              "      <td>0</td>\n",
              "      <td>0</td>\n",
              "      <td>0</td>\n",
              "    </tr>\n",
              "    <tr>\n",
              "      <th>4999</th>\n",
              "      <td>neg</td>\n",
              "      <td>616</td>\n",
              "      <td>6</td>\n",
              "      <td>58</td>\n",
              "      <td>54</td>\n",
              "      <td>0</td>\n",
              "      <td>0</td>\n",
              "      <td>0</td>\n",
              "      <td>0</td>\n",
              "      <td>0</td>\n",
              "      <td>...</td>\n",
              "      <td>4630</td>\n",
              "      <td>2268</td>\n",
              "      <td>4594</td>\n",
              "      <td>2760</td>\n",
              "      <td>2108</td>\n",
              "      <td>9308</td>\n",
              "      <td>64</td>\n",
              "      <td>0</td>\n",
              "      <td>0</td>\n",
              "      <td>0</td>\n",
              "    </tr>\n",
              "  </tbody>\n",
              "</table>\n",
              "<p>5000 rows × 171 columns</p>\n",
              "</div>\n",
              "      <button class=\"colab-df-convert\" onclick=\"convertToInteractive('df-556bd384-7b62-466c-bf69-9a54bb15bbee')\"\n",
              "              title=\"Convert this dataframe to an interactive table.\"\n",
              "              style=\"display:none;\">\n",
              "        \n",
              "  <svg xmlns=\"http://www.w3.org/2000/svg\" height=\"24px\"viewBox=\"0 0 24 24\"\n",
              "       width=\"24px\">\n",
              "    <path d=\"M0 0h24v24H0V0z\" fill=\"none\"/>\n",
              "    <path d=\"M18.56 5.44l.94 2.06.94-2.06 2.06-.94-2.06-.94-.94-2.06-.94 2.06-2.06.94zm-11 1L8.5 8.5l.94-2.06 2.06-.94-2.06-.94L8.5 2.5l-.94 2.06-2.06.94zm10 10l.94 2.06.94-2.06 2.06-.94-2.06-.94-.94-2.06-.94 2.06-2.06.94z\"/><path d=\"M17.41 7.96l-1.37-1.37c-.4-.4-.92-.59-1.43-.59-.52 0-1.04.2-1.43.59L10.3 9.45l-7.72 7.72c-.78.78-.78 2.05 0 2.83L4 21.41c.39.39.9.59 1.41.59.51 0 1.02-.2 1.41-.59l7.78-7.78 2.81-2.81c.8-.78.8-2.07 0-2.86zM5.41 20L4 18.59l7.72-7.72 1.47 1.35L5.41 20z\"/>\n",
              "  </svg>\n",
              "      </button>\n",
              "      \n",
              "  <style>\n",
              "    .colab-df-container {\n",
              "      display:flex;\n",
              "      flex-wrap:wrap;\n",
              "      gap: 12px;\n",
              "    }\n",
              "\n",
              "    .colab-df-convert {\n",
              "      background-color: #E8F0FE;\n",
              "      border: none;\n",
              "      border-radius: 50%;\n",
              "      cursor: pointer;\n",
              "      display: none;\n",
              "      fill: #1967D2;\n",
              "      height: 32px;\n",
              "      padding: 0 0 0 0;\n",
              "      width: 32px;\n",
              "    }\n",
              "\n",
              "    .colab-df-convert:hover {\n",
              "      background-color: #E2EBFA;\n",
              "      box-shadow: 0px 1px 2px rgba(60, 64, 67, 0.3), 0px 1px 3px 1px rgba(60, 64, 67, 0.15);\n",
              "      fill: #174EA6;\n",
              "    }\n",
              "\n",
              "    [theme=dark] .colab-df-convert {\n",
              "      background-color: #3B4455;\n",
              "      fill: #D2E3FC;\n",
              "    }\n",
              "\n",
              "    [theme=dark] .colab-df-convert:hover {\n",
              "      background-color: #434B5C;\n",
              "      box-shadow: 0px 1px 3px 1px rgba(0, 0, 0, 0.15);\n",
              "      filter: drop-shadow(0px 1px 2px rgba(0, 0, 0, 0.3));\n",
              "      fill: #FFFFFF;\n",
              "    }\n",
              "  </style>\n",
              "\n",
              "      <script>\n",
              "        const buttonEl =\n",
              "          document.querySelector('#df-556bd384-7b62-466c-bf69-9a54bb15bbee button.colab-df-convert');\n",
              "        buttonEl.style.display =\n",
              "          google.colab.kernel.accessAllowed ? 'block' : 'none';\n",
              "\n",
              "        async function convertToInteractive(key) {\n",
              "          const element = document.querySelector('#df-556bd384-7b62-466c-bf69-9a54bb15bbee');\n",
              "          const dataTable =\n",
              "            await google.colab.kernel.invokeFunction('convertToInteractive',\n",
              "                                                     [key], {});\n",
              "          if (!dataTable) return;\n",
              "\n",
              "          const docLinkHtml = 'Like what you see? Visit the ' +\n",
              "            '<a target=\"_blank\" href=https://colab.research.google.com/notebooks/data_table.ipynb>data table notebook</a>'\n",
              "            + ' to learn more about interactive tables.';\n",
              "          element.innerHTML = '';\n",
              "          dataTable['output_type'] = 'display_data';\n",
              "          await google.colab.output.renderOutput(dataTable, element);\n",
              "          const docLink = document.createElement('div');\n",
              "          docLink.innerHTML = docLinkHtml;\n",
              "          element.appendChild(docLink);\n",
              "        }\n",
              "      </script>\n",
              "    </div>\n",
              "  </div>\n",
              "  "
            ]
          },
          "metadata": {},
          "execution_count": 5
        }
      ]
    },
    {
      "cell_type": "code",
      "source": [
        "dataset.isnull().sum()"
      ],
      "metadata": {
        "colab": {
          "base_uri": "https://localhost:8080/"
        },
        "id": "6C3c9rW1rbEl",
        "outputId": "d3f5341d-76e5-458c-a75b-623d246932dc"
      },
      "execution_count": null,
      "outputs": [
        {
          "output_type": "execute_result",
          "data": {
            "text/plain": [
              "class     0\n",
              "aa_000    0\n",
              "ab_000    0\n",
              "ac_000    0\n",
              "ad_000    0\n",
              "         ..\n",
              "ee_007    0\n",
              "ee_008    0\n",
              "ee_009    0\n",
              "ef_000    0\n",
              "eg_000    0\n",
              "Length: 171, dtype: int64"
            ]
          },
          "metadata": {},
          "execution_count": 6
        }
      ]
    },
    {
      "cell_type": "code",
      "source": [
        "np.nan"
      ],
      "metadata": {
        "colab": {
          "base_uri": "https://localhost:8080/"
        },
        "id": "KIJH9Oywae46",
        "outputId": "fccd3d7d-3170-4436-d0bb-3106c9ae76b5"
      },
      "execution_count": null,
      "outputs": [
        {
          "output_type": "execute_result",
          "data": {
            "text/plain": [
              "nan"
            ]
          },
          "metadata": {},
          "execution_count": 7
        }
      ]
    },
    {
      "cell_type": "code",
      "source": [
        "dataset=dataset.replace(\"na\",np.nan)"
      ],
      "metadata": {
        "id": "zLmg7EBOae7X"
      },
      "execution_count": null,
      "outputs": []
    },
    {
      "cell_type": "code",
      "source": [
        "dataset.isnull().sum().sum()"
      ],
      "metadata": {
        "colab": {
          "base_uri": "https://localhost:8080/"
        },
        "id": "zTPNWmUSae-E",
        "outputId": "d4717779-42f8-48a9-f164-7c4e8594b9c8"
      },
      "execution_count": null,
      "outputs": [
        {
          "output_type": "execute_result",
          "data": {
            "text/plain": [
              "71649"
            ]
          },
          "metadata": {},
          "execution_count": 9
        }
      ]
    },
    {
      "cell_type": "code",
      "source": [
        "pd.DataFrame(dataset.isnull().sum().sort_values(ascending=False)).rename(columns={0:\"Null Value Count\"})"
      ],
      "metadata": {
        "colab": {
          "base_uri": "https://localhost:8080/",
          "height": 423
        },
        "id": "YaJaXK53afBB",
        "outputId": "2a632b49-3ddf-4d1a-d5ca-de135a579141"
      },
      "execution_count": null,
      "outputs": [
        {
          "output_type": "execute_result",
          "data": {
            "text/plain": [
              "        Null Value Count\n",
              "br_000              4105\n",
              "bq_000              4043\n",
              "bp_000              3960\n",
              "ab_000              3849\n",
              "cr_000              3849\n",
              "...                  ...\n",
              "cj_000                38\n",
              "ci_000                38\n",
              "bt_000                12\n",
              "aa_000                 0\n",
              "class                  0\n",
              "\n",
              "[171 rows x 1 columns]"
            ],
            "text/html": [
              "\n",
              "  <div id=\"df-7acae2df-84da-4dfd-bd61-202e2ccca0c8\">\n",
              "    <div class=\"colab-df-container\">\n",
              "      <div>\n",
              "<style scoped>\n",
              "    .dataframe tbody tr th:only-of-type {\n",
              "        vertical-align: middle;\n",
              "    }\n",
              "\n",
              "    .dataframe tbody tr th {\n",
              "        vertical-align: top;\n",
              "    }\n",
              "\n",
              "    .dataframe thead th {\n",
              "        text-align: right;\n",
              "    }\n",
              "</style>\n",
              "<table border=\"1\" class=\"dataframe\">\n",
              "  <thead>\n",
              "    <tr style=\"text-align: right;\">\n",
              "      <th></th>\n",
              "      <th>Null Value Count</th>\n",
              "    </tr>\n",
              "  </thead>\n",
              "  <tbody>\n",
              "    <tr>\n",
              "      <th>br_000</th>\n",
              "      <td>4105</td>\n",
              "    </tr>\n",
              "    <tr>\n",
              "      <th>bq_000</th>\n",
              "      <td>4043</td>\n",
              "    </tr>\n",
              "    <tr>\n",
              "      <th>bp_000</th>\n",
              "      <td>3960</td>\n",
              "    </tr>\n",
              "    <tr>\n",
              "      <th>ab_000</th>\n",
              "      <td>3849</td>\n",
              "    </tr>\n",
              "    <tr>\n",
              "      <th>cr_000</th>\n",
              "      <td>3849</td>\n",
              "    </tr>\n",
              "    <tr>\n",
              "      <th>...</th>\n",
              "      <td>...</td>\n",
              "    </tr>\n",
              "    <tr>\n",
              "      <th>cj_000</th>\n",
              "      <td>38</td>\n",
              "    </tr>\n",
              "    <tr>\n",
              "      <th>ci_000</th>\n",
              "      <td>38</td>\n",
              "    </tr>\n",
              "    <tr>\n",
              "      <th>bt_000</th>\n",
              "      <td>12</td>\n",
              "    </tr>\n",
              "    <tr>\n",
              "      <th>aa_000</th>\n",
              "      <td>0</td>\n",
              "    </tr>\n",
              "    <tr>\n",
              "      <th>class</th>\n",
              "      <td>0</td>\n",
              "    </tr>\n",
              "  </tbody>\n",
              "</table>\n",
              "<p>171 rows × 1 columns</p>\n",
              "</div>\n",
              "      <button class=\"colab-df-convert\" onclick=\"convertToInteractive('df-7acae2df-84da-4dfd-bd61-202e2ccca0c8')\"\n",
              "              title=\"Convert this dataframe to an interactive table.\"\n",
              "              style=\"display:none;\">\n",
              "        \n",
              "  <svg xmlns=\"http://www.w3.org/2000/svg\" height=\"24px\"viewBox=\"0 0 24 24\"\n",
              "       width=\"24px\">\n",
              "    <path d=\"M0 0h24v24H0V0z\" fill=\"none\"/>\n",
              "    <path d=\"M18.56 5.44l.94 2.06.94-2.06 2.06-.94-2.06-.94-.94-2.06-.94 2.06-2.06.94zm-11 1L8.5 8.5l.94-2.06 2.06-.94-2.06-.94L8.5 2.5l-.94 2.06-2.06.94zm10 10l.94 2.06.94-2.06 2.06-.94-2.06-.94-.94-2.06-.94 2.06-2.06.94z\"/><path d=\"M17.41 7.96l-1.37-1.37c-.4-.4-.92-.59-1.43-.59-.52 0-1.04.2-1.43.59L10.3 9.45l-7.72 7.72c-.78.78-.78 2.05 0 2.83L4 21.41c.39.39.9.59 1.41.59.51 0 1.02-.2 1.41-.59l7.78-7.78 2.81-2.81c.8-.78.8-2.07 0-2.86zM5.41 20L4 18.59l7.72-7.72 1.47 1.35L5.41 20z\"/>\n",
              "  </svg>\n",
              "      </button>\n",
              "      \n",
              "  <style>\n",
              "    .colab-df-container {\n",
              "      display:flex;\n",
              "      flex-wrap:wrap;\n",
              "      gap: 12px;\n",
              "    }\n",
              "\n",
              "    .colab-df-convert {\n",
              "      background-color: #E8F0FE;\n",
              "      border: none;\n",
              "      border-radius: 50%;\n",
              "      cursor: pointer;\n",
              "      display: none;\n",
              "      fill: #1967D2;\n",
              "      height: 32px;\n",
              "      padding: 0 0 0 0;\n",
              "      width: 32px;\n",
              "    }\n",
              "\n",
              "    .colab-df-convert:hover {\n",
              "      background-color: #E2EBFA;\n",
              "      box-shadow: 0px 1px 2px rgba(60, 64, 67, 0.3), 0px 1px 3px 1px rgba(60, 64, 67, 0.15);\n",
              "      fill: #174EA6;\n",
              "    }\n",
              "\n",
              "    [theme=dark] .colab-df-convert {\n",
              "      background-color: #3B4455;\n",
              "      fill: #D2E3FC;\n",
              "    }\n",
              "\n",
              "    [theme=dark] .colab-df-convert:hover {\n",
              "      background-color: #434B5C;\n",
              "      box-shadow: 0px 1px 3px 1px rgba(0, 0, 0, 0.15);\n",
              "      filter: drop-shadow(0px 1px 2px rgba(0, 0, 0, 0.3));\n",
              "      fill: #FFFFFF;\n",
              "    }\n",
              "  </style>\n",
              "\n",
              "      <script>\n",
              "        const buttonEl =\n",
              "          document.querySelector('#df-7acae2df-84da-4dfd-bd61-202e2ccca0c8 button.colab-df-convert');\n",
              "        buttonEl.style.display =\n",
              "          google.colab.kernel.accessAllowed ? 'block' : 'none';\n",
              "\n",
              "        async function convertToInteractive(key) {\n",
              "          const element = document.querySelector('#df-7acae2df-84da-4dfd-bd61-202e2ccca0c8');\n",
              "          const dataTable =\n",
              "            await google.colab.kernel.invokeFunction('convertToInteractive',\n",
              "                                                     [key], {});\n",
              "          if (!dataTable) return;\n",
              "\n",
              "          const docLinkHtml = 'Like what you see? Visit the ' +\n",
              "            '<a target=\"_blank\" href=https://colab.research.google.com/notebooks/data_table.ipynb>data table notebook</a>'\n",
              "            + ' to learn more about interactive tables.';\n",
              "          element.innerHTML = '';\n",
              "          dataTable['output_type'] = 'display_data';\n",
              "          await google.colab.output.renderOutput(dataTable, element);\n",
              "          const docLink = document.createElement('div');\n",
              "          docLink.innerHTML = docLinkHtml;\n",
              "          element.appendChild(docLink);\n",
              "        }\n",
              "      </script>\n",
              "    </div>\n",
              "  </div>\n",
              "  "
            ]
          },
          "metadata": {},
          "execution_count": 10
        }
      ]
    },
    {
      "cell_type": "code",
      "source": [
        "[feature for feature in dataset.columns if feature not in ['class']]"
      ],
      "metadata": {
        "colab": {
          "base_uri": "https://localhost:8080/"
        },
        "id": "joW_4E9rafEa",
        "outputId": "8a5dbd08-891e-4d45-c659-8a04db56206c"
      },
      "execution_count": null,
      "outputs": [
        {
          "output_type": "execute_result",
          "data": {
            "text/plain": [
              "['aa_000',\n",
              " 'ab_000',\n",
              " 'ac_000',\n",
              " 'ad_000',\n",
              " 'ae_000',\n",
              " 'af_000',\n",
              " 'ag_000',\n",
              " 'ag_001',\n",
              " 'ag_002',\n",
              " 'ag_003',\n",
              " 'ag_004',\n",
              " 'ag_005',\n",
              " 'ag_006',\n",
              " 'ag_007',\n",
              " 'ag_008',\n",
              " 'ag_009',\n",
              " 'ah_000',\n",
              " 'ai_000',\n",
              " 'aj_000',\n",
              " 'ak_000',\n",
              " 'al_000',\n",
              " 'am_0',\n",
              " 'an_000',\n",
              " 'ao_000',\n",
              " 'ap_000',\n",
              " 'aq_000',\n",
              " 'ar_000',\n",
              " 'as_000',\n",
              " 'at_000',\n",
              " 'au_000',\n",
              " 'av_000',\n",
              " 'ax_000',\n",
              " 'ay_000',\n",
              " 'ay_001',\n",
              " 'ay_002',\n",
              " 'ay_003',\n",
              " 'ay_004',\n",
              " 'ay_005',\n",
              " 'ay_006',\n",
              " 'ay_007',\n",
              " 'ay_008',\n",
              " 'ay_009',\n",
              " 'az_000',\n",
              " 'az_001',\n",
              " 'az_002',\n",
              " 'az_003',\n",
              " 'az_004',\n",
              " 'az_005',\n",
              " 'az_006',\n",
              " 'az_007',\n",
              " 'az_008',\n",
              " 'az_009',\n",
              " 'ba_000',\n",
              " 'ba_001',\n",
              " 'ba_002',\n",
              " 'ba_003',\n",
              " 'ba_004',\n",
              " 'ba_005',\n",
              " 'ba_006',\n",
              " 'ba_007',\n",
              " 'ba_008',\n",
              " 'ba_009',\n",
              " 'bb_000',\n",
              " 'bc_000',\n",
              " 'bd_000',\n",
              " 'be_000',\n",
              " 'bf_000',\n",
              " 'bg_000',\n",
              " 'bh_000',\n",
              " 'bi_000',\n",
              " 'bj_000',\n",
              " 'bk_000',\n",
              " 'bl_000',\n",
              " 'bm_000',\n",
              " 'bn_000',\n",
              " 'bo_000',\n",
              " 'bp_000',\n",
              " 'bq_000',\n",
              " 'br_000',\n",
              " 'bs_000',\n",
              " 'bt_000',\n",
              " 'bu_000',\n",
              " 'bv_000',\n",
              " 'bx_000',\n",
              " 'by_000',\n",
              " 'bz_000',\n",
              " 'ca_000',\n",
              " 'cb_000',\n",
              " 'cc_000',\n",
              " 'cd_000',\n",
              " 'ce_000',\n",
              " 'cf_000',\n",
              " 'cg_000',\n",
              " 'ch_000',\n",
              " 'ci_000',\n",
              " 'cj_000',\n",
              " 'ck_000',\n",
              " 'cl_000',\n",
              " 'cm_000',\n",
              " 'cn_000',\n",
              " 'cn_001',\n",
              " 'cn_002',\n",
              " 'cn_003',\n",
              " 'cn_004',\n",
              " 'cn_005',\n",
              " 'cn_006',\n",
              " 'cn_007',\n",
              " 'cn_008',\n",
              " 'cn_009',\n",
              " 'co_000',\n",
              " 'cp_000',\n",
              " 'cq_000',\n",
              " 'cr_000',\n",
              " 'cs_000',\n",
              " 'cs_001',\n",
              " 'cs_002',\n",
              " 'cs_003',\n",
              " 'cs_004',\n",
              " 'cs_005',\n",
              " 'cs_006',\n",
              " 'cs_007',\n",
              " 'cs_008',\n",
              " 'cs_009',\n",
              " 'ct_000',\n",
              " 'cu_000',\n",
              " 'cv_000',\n",
              " 'cx_000',\n",
              " 'cy_000',\n",
              " 'cz_000',\n",
              " 'da_000',\n",
              " 'db_000',\n",
              " 'dc_000',\n",
              " 'dd_000',\n",
              " 'de_000',\n",
              " 'df_000',\n",
              " 'dg_000',\n",
              " 'dh_000',\n",
              " 'di_000',\n",
              " 'dj_000',\n",
              " 'dk_000',\n",
              " 'dl_000',\n",
              " 'dm_000',\n",
              " 'dn_000',\n",
              " 'do_000',\n",
              " 'dp_000',\n",
              " 'dq_000',\n",
              " 'dr_000',\n",
              " 'ds_000',\n",
              " 'dt_000',\n",
              " 'du_000',\n",
              " 'dv_000',\n",
              " 'dx_000',\n",
              " 'dy_000',\n",
              " 'dz_000',\n",
              " 'ea_000',\n",
              " 'eb_000',\n",
              " 'ec_00',\n",
              " 'ed_000',\n",
              " 'ee_000',\n",
              " 'ee_001',\n",
              " 'ee_002',\n",
              " 'ee_003',\n",
              " 'ee_004',\n",
              " 'ee_005',\n",
              " 'ee_006',\n",
              " 'ee_007',\n",
              " 'ee_008',\n",
              " 'ee_009',\n",
              " 'ef_000',\n",
              " 'eg_000']"
            ]
          },
          "metadata": {},
          "execution_count": 11
        }
      ]
    },
    {
      "cell_type": "code",
      "source": [
        "### Filling null values in feature with median of that feature\n",
        "for feature in [feature for feature in dataset.columns if feature not in ['class']]:\n",
        "    dataset[feature]=dataset[feature].fillna(dataset[feature].median())"
      ],
      "metadata": {
        "id": "GOj03Ah9bzXl"
      },
      "execution_count": null,
      "outputs": []
    },
    {
      "cell_type": "code",
      "source": [
        "dataset.isnull().sum()"
      ],
      "metadata": {
        "colab": {
          "base_uri": "https://localhost:8080/"
        },
        "id": "hAbJM4VUbzan",
        "outputId": "5070e575-310a-4dba-b699-9515feb1ff54"
      },
      "execution_count": null,
      "outputs": [
        {
          "output_type": "execute_result",
          "data": {
            "text/plain": [
              "class     0\n",
              "aa_000    0\n",
              "ab_000    0\n",
              "ac_000    0\n",
              "ad_000    0\n",
              "         ..\n",
              "ee_007    0\n",
              "ee_008    0\n",
              "ee_009    0\n",
              "ef_000    0\n",
              "eg_000    0\n",
              "Length: 171, dtype: int64"
            ]
          },
          "metadata": {},
          "execution_count": 13
        }
      ]
    },
    {
      "cell_type": "code",
      "source": [
        "dataset.isnull().sum().sum()"
      ],
      "metadata": {
        "colab": {
          "base_uri": "https://localhost:8080/"
        },
        "id": "z3nA5onBbzds",
        "outputId": "24aa542c-4df1-4d02-e939-fd7ae09ea53c"
      },
      "execution_count": null,
      "outputs": [
        {
          "output_type": "execute_result",
          "data": {
            "text/plain": [
              "0"
            ]
          },
          "metadata": {},
          "execution_count": 14
        }
      ]
    },
    {
      "cell_type": "code",
      "source": [
        "dataset.isnull().sum()"
      ],
      "metadata": {
        "colab": {
          "base_uri": "https://localhost:8080/"
        },
        "id": "xhff3uPqbzhT",
        "outputId": "b202e06b-79ce-44ef-da06-d829f1efab6e"
      },
      "execution_count": null,
      "outputs": [
        {
          "output_type": "execute_result",
          "data": {
            "text/plain": [
              "class     0\n",
              "aa_000    0\n",
              "ab_000    0\n",
              "ac_000    0\n",
              "ad_000    0\n",
              "         ..\n",
              "ee_007    0\n",
              "ee_008    0\n",
              "ee_009    0\n",
              "ef_000    0\n",
              "eg_000    0\n",
              "Length: 171, dtype: int64"
            ]
          },
          "metadata": {},
          "execution_count": 15
        }
      ]
    },
    {
      "cell_type": "code",
      "source": [
        "pd.DataFrame(dataset.isnull().sum().sort_values(ascending=False)).rename(columns={0:\"Null Value Count\"})"
      ],
      "metadata": {
        "colab": {
          "base_uri": "https://localhost:8080/",
          "height": 423
        },
        "id": "_dE-1CGZcYKI",
        "outputId": "897f7f06-085e-4857-ac8f-46d7fb38241b"
      },
      "execution_count": null,
      "outputs": [
        {
          "output_type": "execute_result",
          "data": {
            "text/plain": [
              "        Null Value Count\n",
              "class                  0\n",
              "cs_003                 0\n",
              "cn_009                 0\n",
              "co_000                 0\n",
              "cp_000                 0\n",
              "...                  ...\n",
              "ba_005                 0\n",
              "ba_006                 0\n",
              "ba_007                 0\n",
              "ba_008                 0\n",
              "eg_000                 0\n",
              "\n",
              "[171 rows x 1 columns]"
            ],
            "text/html": [
              "\n",
              "  <div id=\"df-e9bbf506-a5ee-4451-8a8e-292e4e8295f1\">\n",
              "    <div class=\"colab-df-container\">\n",
              "      <div>\n",
              "<style scoped>\n",
              "    .dataframe tbody tr th:only-of-type {\n",
              "        vertical-align: middle;\n",
              "    }\n",
              "\n",
              "    .dataframe tbody tr th {\n",
              "        vertical-align: top;\n",
              "    }\n",
              "\n",
              "    .dataframe thead th {\n",
              "        text-align: right;\n",
              "    }\n",
              "</style>\n",
              "<table border=\"1\" class=\"dataframe\">\n",
              "  <thead>\n",
              "    <tr style=\"text-align: right;\">\n",
              "      <th></th>\n",
              "      <th>Null Value Count</th>\n",
              "    </tr>\n",
              "  </thead>\n",
              "  <tbody>\n",
              "    <tr>\n",
              "      <th>class</th>\n",
              "      <td>0</td>\n",
              "    </tr>\n",
              "    <tr>\n",
              "      <th>cs_003</th>\n",
              "      <td>0</td>\n",
              "    </tr>\n",
              "    <tr>\n",
              "      <th>cn_009</th>\n",
              "      <td>0</td>\n",
              "    </tr>\n",
              "    <tr>\n",
              "      <th>co_000</th>\n",
              "      <td>0</td>\n",
              "    </tr>\n",
              "    <tr>\n",
              "      <th>cp_000</th>\n",
              "      <td>0</td>\n",
              "    </tr>\n",
              "    <tr>\n",
              "      <th>...</th>\n",
              "      <td>...</td>\n",
              "    </tr>\n",
              "    <tr>\n",
              "      <th>ba_005</th>\n",
              "      <td>0</td>\n",
              "    </tr>\n",
              "    <tr>\n",
              "      <th>ba_006</th>\n",
              "      <td>0</td>\n",
              "    </tr>\n",
              "    <tr>\n",
              "      <th>ba_007</th>\n",
              "      <td>0</td>\n",
              "    </tr>\n",
              "    <tr>\n",
              "      <th>ba_008</th>\n",
              "      <td>0</td>\n",
              "    </tr>\n",
              "    <tr>\n",
              "      <th>eg_000</th>\n",
              "      <td>0</td>\n",
              "    </tr>\n",
              "  </tbody>\n",
              "</table>\n",
              "<p>171 rows × 1 columns</p>\n",
              "</div>\n",
              "      <button class=\"colab-df-convert\" onclick=\"convertToInteractive('df-e9bbf506-a5ee-4451-8a8e-292e4e8295f1')\"\n",
              "              title=\"Convert this dataframe to an interactive table.\"\n",
              "              style=\"display:none;\">\n",
              "        \n",
              "  <svg xmlns=\"http://www.w3.org/2000/svg\" height=\"24px\"viewBox=\"0 0 24 24\"\n",
              "       width=\"24px\">\n",
              "    <path d=\"M0 0h24v24H0V0z\" fill=\"none\"/>\n",
              "    <path d=\"M18.56 5.44l.94 2.06.94-2.06 2.06-.94-2.06-.94-.94-2.06-.94 2.06-2.06.94zm-11 1L8.5 8.5l.94-2.06 2.06-.94-2.06-.94L8.5 2.5l-.94 2.06-2.06.94zm10 10l.94 2.06.94-2.06 2.06-.94-2.06-.94-.94-2.06-.94 2.06-2.06.94z\"/><path d=\"M17.41 7.96l-1.37-1.37c-.4-.4-.92-.59-1.43-.59-.52 0-1.04.2-1.43.59L10.3 9.45l-7.72 7.72c-.78.78-.78 2.05 0 2.83L4 21.41c.39.39.9.59 1.41.59.51 0 1.02-.2 1.41-.59l7.78-7.78 2.81-2.81c.8-.78.8-2.07 0-2.86zM5.41 20L4 18.59l7.72-7.72 1.47 1.35L5.41 20z\"/>\n",
              "  </svg>\n",
              "      </button>\n",
              "      \n",
              "  <style>\n",
              "    .colab-df-container {\n",
              "      display:flex;\n",
              "      flex-wrap:wrap;\n",
              "      gap: 12px;\n",
              "    }\n",
              "\n",
              "    .colab-df-convert {\n",
              "      background-color: #E8F0FE;\n",
              "      border: none;\n",
              "      border-radius: 50%;\n",
              "      cursor: pointer;\n",
              "      display: none;\n",
              "      fill: #1967D2;\n",
              "      height: 32px;\n",
              "      padding: 0 0 0 0;\n",
              "      width: 32px;\n",
              "    }\n",
              "\n",
              "    .colab-df-convert:hover {\n",
              "      background-color: #E2EBFA;\n",
              "      box-shadow: 0px 1px 2px rgba(60, 64, 67, 0.3), 0px 1px 3px 1px rgba(60, 64, 67, 0.15);\n",
              "      fill: #174EA6;\n",
              "    }\n",
              "\n",
              "    [theme=dark] .colab-df-convert {\n",
              "      background-color: #3B4455;\n",
              "      fill: #D2E3FC;\n",
              "    }\n",
              "\n",
              "    [theme=dark] .colab-df-convert:hover {\n",
              "      background-color: #434B5C;\n",
              "      box-shadow: 0px 1px 3px 1px rgba(0, 0, 0, 0.15);\n",
              "      filter: drop-shadow(0px 1px 2px rgba(0, 0, 0, 0.3));\n",
              "      fill: #FFFFFF;\n",
              "    }\n",
              "  </style>\n",
              "\n",
              "      <script>\n",
              "        const buttonEl =\n",
              "          document.querySelector('#df-e9bbf506-a5ee-4451-8a8e-292e4e8295f1 button.colab-df-convert');\n",
              "        buttonEl.style.display =\n",
              "          google.colab.kernel.accessAllowed ? 'block' : 'none';\n",
              "\n",
              "        async function convertToInteractive(key) {\n",
              "          const element = document.querySelector('#df-e9bbf506-a5ee-4451-8a8e-292e4e8295f1');\n",
              "          const dataTable =\n",
              "            await google.colab.kernel.invokeFunction('convertToInteractive',\n",
              "                                                     [key], {});\n",
              "          if (!dataTable) return;\n",
              "\n",
              "          const docLinkHtml = 'Like what you see? Visit the ' +\n",
              "            '<a target=\"_blank\" href=https://colab.research.google.com/notebooks/data_table.ipynb>data table notebook</a>'\n",
              "            + ' to learn more about interactive tables.';\n",
              "          element.innerHTML = '';\n",
              "          dataTable['output_type'] = 'display_data';\n",
              "          await google.colab.output.renderOutput(dataTable, element);\n",
              "          const docLink = document.createElement('div');\n",
              "          docLink.innerHTML = docLinkHtml;\n",
              "          element.appendChild(docLink);\n",
              "        }\n",
              "      </script>\n",
              "    </div>\n",
              "  </div>\n",
              "  "
            ]
          },
          "metadata": {},
          "execution_count": 16
        }
      ]
    },
    {
      "cell_type": "code",
      "source": [
        "dataset.head()"
      ],
      "metadata": {
        "colab": {
          "base_uri": "https://localhost:8080/",
          "height": 299
        },
        "id": "w5GmeDezcei5",
        "outputId": "3c99af70-014f-41ea-b25c-3d67f514c313"
      },
      "execution_count": null,
      "outputs": [
        {
          "output_type": "execute_result",
          "data": {
            "text/plain": [
              "  class  aa_000 ab_000 ac_000 ad_000 ae_000 af_000 ag_000 ag_001 ag_002  ...  \\\n",
              "0   neg       6      0      0      0      0      0      0      0      0  ...   \n",
              "1   neg      90      0      0     66      0      0      0      0      0  ...   \n",
              "2   neg      30    0.0     16     14      0      0      0      0      0  ...   \n",
              "3   neg     444    0.0     14     12      0      0      0      0      0  ...   \n",
              "4   neg      82    0.0     12     10      0      0      0      0   1464  ...   \n",
              "\n",
              "  ee_002 ee_003 ee_004 ee_005 ee_006 ee_007 ee_008 ee_009 ef_000 eg_000  \n",
              "0     26      8     26     52      0      0      0      0      0      0  \n",
              "1   1268    526    554    300    118    260      0      0      0      0  \n",
              "2    480     84     74     50     46      0      0      0      0      0  \n",
              "3   1614   1144   3598   2460   1258   8524    110      0      0      0  \n",
              "4   1010    132    310     56     92   1292      0      0      0      0  \n",
              "\n",
              "[5 rows x 171 columns]"
            ],
            "text/html": [
              "\n",
              "  <div id=\"df-06a9d2d8-947a-492f-aa96-22f19c5c727f\">\n",
              "    <div class=\"colab-df-container\">\n",
              "      <div>\n",
              "<style scoped>\n",
              "    .dataframe tbody tr th:only-of-type {\n",
              "        vertical-align: middle;\n",
              "    }\n",
              "\n",
              "    .dataframe tbody tr th {\n",
              "        vertical-align: top;\n",
              "    }\n",
              "\n",
              "    .dataframe thead th {\n",
              "        text-align: right;\n",
              "    }\n",
              "</style>\n",
              "<table border=\"1\" class=\"dataframe\">\n",
              "  <thead>\n",
              "    <tr style=\"text-align: right;\">\n",
              "      <th></th>\n",
              "      <th>class</th>\n",
              "      <th>aa_000</th>\n",
              "      <th>ab_000</th>\n",
              "      <th>ac_000</th>\n",
              "      <th>ad_000</th>\n",
              "      <th>ae_000</th>\n",
              "      <th>af_000</th>\n",
              "      <th>ag_000</th>\n",
              "      <th>ag_001</th>\n",
              "      <th>ag_002</th>\n",
              "      <th>...</th>\n",
              "      <th>ee_002</th>\n",
              "      <th>ee_003</th>\n",
              "      <th>ee_004</th>\n",
              "      <th>ee_005</th>\n",
              "      <th>ee_006</th>\n",
              "      <th>ee_007</th>\n",
              "      <th>ee_008</th>\n",
              "      <th>ee_009</th>\n",
              "      <th>ef_000</th>\n",
              "      <th>eg_000</th>\n",
              "    </tr>\n",
              "  </thead>\n",
              "  <tbody>\n",
              "    <tr>\n",
              "      <th>0</th>\n",
              "      <td>neg</td>\n",
              "      <td>6</td>\n",
              "      <td>0</td>\n",
              "      <td>0</td>\n",
              "      <td>0</td>\n",
              "      <td>0</td>\n",
              "      <td>0</td>\n",
              "      <td>0</td>\n",
              "      <td>0</td>\n",
              "      <td>0</td>\n",
              "      <td>...</td>\n",
              "      <td>26</td>\n",
              "      <td>8</td>\n",
              "      <td>26</td>\n",
              "      <td>52</td>\n",
              "      <td>0</td>\n",
              "      <td>0</td>\n",
              "      <td>0</td>\n",
              "      <td>0</td>\n",
              "      <td>0</td>\n",
              "      <td>0</td>\n",
              "    </tr>\n",
              "    <tr>\n",
              "      <th>1</th>\n",
              "      <td>neg</td>\n",
              "      <td>90</td>\n",
              "      <td>0</td>\n",
              "      <td>0</td>\n",
              "      <td>66</td>\n",
              "      <td>0</td>\n",
              "      <td>0</td>\n",
              "      <td>0</td>\n",
              "      <td>0</td>\n",
              "      <td>0</td>\n",
              "      <td>...</td>\n",
              "      <td>1268</td>\n",
              "      <td>526</td>\n",
              "      <td>554</td>\n",
              "      <td>300</td>\n",
              "      <td>118</td>\n",
              "      <td>260</td>\n",
              "      <td>0</td>\n",
              "      <td>0</td>\n",
              "      <td>0</td>\n",
              "      <td>0</td>\n",
              "    </tr>\n",
              "    <tr>\n",
              "      <th>2</th>\n",
              "      <td>neg</td>\n",
              "      <td>30</td>\n",
              "      <td>0.0</td>\n",
              "      <td>16</td>\n",
              "      <td>14</td>\n",
              "      <td>0</td>\n",
              "      <td>0</td>\n",
              "      <td>0</td>\n",
              "      <td>0</td>\n",
              "      <td>0</td>\n",
              "      <td>...</td>\n",
              "      <td>480</td>\n",
              "      <td>84</td>\n",
              "      <td>74</td>\n",
              "      <td>50</td>\n",
              "      <td>46</td>\n",
              "      <td>0</td>\n",
              "      <td>0</td>\n",
              "      <td>0</td>\n",
              "      <td>0</td>\n",
              "      <td>0</td>\n",
              "    </tr>\n",
              "    <tr>\n",
              "      <th>3</th>\n",
              "      <td>neg</td>\n",
              "      <td>444</td>\n",
              "      <td>0.0</td>\n",
              "      <td>14</td>\n",
              "      <td>12</td>\n",
              "      <td>0</td>\n",
              "      <td>0</td>\n",
              "      <td>0</td>\n",
              "      <td>0</td>\n",
              "      <td>0</td>\n",
              "      <td>...</td>\n",
              "      <td>1614</td>\n",
              "      <td>1144</td>\n",
              "      <td>3598</td>\n",
              "      <td>2460</td>\n",
              "      <td>1258</td>\n",
              "      <td>8524</td>\n",
              "      <td>110</td>\n",
              "      <td>0</td>\n",
              "      <td>0</td>\n",
              "      <td>0</td>\n",
              "    </tr>\n",
              "    <tr>\n",
              "      <th>4</th>\n",
              "      <td>neg</td>\n",
              "      <td>82</td>\n",
              "      <td>0.0</td>\n",
              "      <td>12</td>\n",
              "      <td>10</td>\n",
              "      <td>0</td>\n",
              "      <td>0</td>\n",
              "      <td>0</td>\n",
              "      <td>0</td>\n",
              "      <td>1464</td>\n",
              "      <td>...</td>\n",
              "      <td>1010</td>\n",
              "      <td>132</td>\n",
              "      <td>310</td>\n",
              "      <td>56</td>\n",
              "      <td>92</td>\n",
              "      <td>1292</td>\n",
              "      <td>0</td>\n",
              "      <td>0</td>\n",
              "      <td>0</td>\n",
              "      <td>0</td>\n",
              "    </tr>\n",
              "  </tbody>\n",
              "</table>\n",
              "<p>5 rows × 171 columns</p>\n",
              "</div>\n",
              "      <button class=\"colab-df-convert\" onclick=\"convertToInteractive('df-06a9d2d8-947a-492f-aa96-22f19c5c727f')\"\n",
              "              title=\"Convert this dataframe to an interactive table.\"\n",
              "              style=\"display:none;\">\n",
              "        \n",
              "  <svg xmlns=\"http://www.w3.org/2000/svg\" height=\"24px\"viewBox=\"0 0 24 24\"\n",
              "       width=\"24px\">\n",
              "    <path d=\"M0 0h24v24H0V0z\" fill=\"none\"/>\n",
              "    <path d=\"M18.56 5.44l.94 2.06.94-2.06 2.06-.94-2.06-.94-.94-2.06-.94 2.06-2.06.94zm-11 1L8.5 8.5l.94-2.06 2.06-.94-2.06-.94L8.5 2.5l-.94 2.06-2.06.94zm10 10l.94 2.06.94-2.06 2.06-.94-2.06-.94-.94-2.06-.94 2.06-2.06.94z\"/><path d=\"M17.41 7.96l-1.37-1.37c-.4-.4-.92-.59-1.43-.59-.52 0-1.04.2-1.43.59L10.3 9.45l-7.72 7.72c-.78.78-.78 2.05 0 2.83L4 21.41c.39.39.9.59 1.41.59.51 0 1.02-.2 1.41-.59l7.78-7.78 2.81-2.81c.8-.78.8-2.07 0-2.86zM5.41 20L4 18.59l7.72-7.72 1.47 1.35L5.41 20z\"/>\n",
              "  </svg>\n",
              "      </button>\n",
              "      \n",
              "  <style>\n",
              "    .colab-df-container {\n",
              "      display:flex;\n",
              "      flex-wrap:wrap;\n",
              "      gap: 12px;\n",
              "    }\n",
              "\n",
              "    .colab-df-convert {\n",
              "      background-color: #E8F0FE;\n",
              "      border: none;\n",
              "      border-radius: 50%;\n",
              "      cursor: pointer;\n",
              "      display: none;\n",
              "      fill: #1967D2;\n",
              "      height: 32px;\n",
              "      padding: 0 0 0 0;\n",
              "      width: 32px;\n",
              "    }\n",
              "\n",
              "    .colab-df-convert:hover {\n",
              "      background-color: #E2EBFA;\n",
              "      box-shadow: 0px 1px 2px rgba(60, 64, 67, 0.3), 0px 1px 3px 1px rgba(60, 64, 67, 0.15);\n",
              "      fill: #174EA6;\n",
              "    }\n",
              "\n",
              "    [theme=dark] .colab-df-convert {\n",
              "      background-color: #3B4455;\n",
              "      fill: #D2E3FC;\n",
              "    }\n",
              "\n",
              "    [theme=dark] .colab-df-convert:hover {\n",
              "      background-color: #434B5C;\n",
              "      box-shadow: 0px 1px 3px 1px rgba(0, 0, 0, 0.15);\n",
              "      filter: drop-shadow(0px 1px 2px rgba(0, 0, 0, 0.3));\n",
              "      fill: #FFFFFF;\n",
              "    }\n",
              "  </style>\n",
              "\n",
              "      <script>\n",
              "        const buttonEl =\n",
              "          document.querySelector('#df-06a9d2d8-947a-492f-aa96-22f19c5c727f button.colab-df-convert');\n",
              "        buttonEl.style.display =\n",
              "          google.colab.kernel.accessAllowed ? 'block' : 'none';\n",
              "\n",
              "        async function convertToInteractive(key) {\n",
              "          const element = document.querySelector('#df-06a9d2d8-947a-492f-aa96-22f19c5c727f');\n",
              "          const dataTable =\n",
              "            await google.colab.kernel.invokeFunction('convertToInteractive',\n",
              "                                                     [key], {});\n",
              "          if (!dataTable) return;\n",
              "\n",
              "          const docLinkHtml = 'Like what you see? Visit the ' +\n",
              "            '<a target=\"_blank\" href=https://colab.research.google.com/notebooks/data_table.ipynb>data table notebook</a>'\n",
              "            + ' to learn more about interactive tables.';\n",
              "          element.innerHTML = '';\n",
              "          dataTable['output_type'] = 'display_data';\n",
              "          await google.colab.output.renderOutput(dataTable, element);\n",
              "          const docLink = document.createElement('div');\n",
              "          docLink.innerHTML = docLinkHtml;\n",
              "          element.appendChild(docLink);\n",
              "        }\n",
              "      </script>\n",
              "    </div>\n",
              "  </div>\n",
              "  "
            ]
          },
          "metadata": {},
          "execution_count": 17
        }
      ]
    },
    {
      "cell_type": "code",
      "source": [
        "X=dataset.drop(\"class\",axis=1)"
      ],
      "metadata": {
        "id": "EMcv1-CzciFu"
      },
      "execution_count": null,
      "outputs": []
    },
    {
      "cell_type": "code",
      "source": [
        "y=dataset[\"class\"]"
      ],
      "metadata": {
        "id": "hrzHxurHclxY"
      },
      "execution_count": null,
      "outputs": []
    },
    {
      "cell_type": "code",
      "source": [
        "X.info(verbose=True,show_counts=True)"
      ],
      "metadata": {
        "colab": {
          "base_uri": "https://localhost:8080/"
        },
        "id": "yoLnRuX_cnWb",
        "outputId": "b6383481-1895-4dd5-8b49-f38e00752a41"
      },
      "execution_count": null,
      "outputs": [
        {
          "output_type": "stream",
          "name": "stdout",
          "text": [
            "<class 'pandas.core.frame.DataFrame'>\n",
            "RangeIndex: 5000 entries, 0 to 4999\n",
            "Data columns (total 170 columns):\n",
            " #    Column  Non-Null Count  Dtype \n",
            "---   ------  --------------  ----- \n",
            " 0    aa_000  5000 non-null   int64 \n",
            " 1    ab_000  5000 non-null   object\n",
            " 2    ac_000  5000 non-null   object\n",
            " 3    ad_000  5000 non-null   object\n",
            " 4    ae_000  5000 non-null   object\n",
            " 5    af_000  5000 non-null   object\n",
            " 6    ag_000  5000 non-null   object\n",
            " 7    ag_001  5000 non-null   object\n",
            " 8    ag_002  5000 non-null   object\n",
            " 9    ag_003  5000 non-null   object\n",
            " 10   ag_004  5000 non-null   object\n",
            " 11   ag_005  5000 non-null   object\n",
            " 12   ag_006  5000 non-null   object\n",
            " 13   ag_007  5000 non-null   object\n",
            " 14   ag_008  5000 non-null   object\n",
            " 15   ag_009  5000 non-null   object\n",
            " 16   ah_000  5000 non-null   object\n",
            " 17   ai_000  5000 non-null   object\n",
            " 18   aj_000  5000 non-null   object\n",
            " 19   ak_000  5000 non-null   object\n",
            " 20   al_000  5000 non-null   object\n",
            " 21   am_0    5000 non-null   object\n",
            " 22   an_000  5000 non-null   object\n",
            " 23   ao_000  5000 non-null   object\n",
            " 24   ap_000  5000 non-null   object\n",
            " 25   aq_000  5000 non-null   object\n",
            " 26   ar_000  5000 non-null   object\n",
            " 27   as_000  5000 non-null   object\n",
            " 28   at_000  5000 non-null   object\n",
            " 29   au_000  5000 non-null   object\n",
            " 30   av_000  5000 non-null   object\n",
            " 31   ax_000  5000 non-null   object\n",
            " 32   ay_000  5000 non-null   object\n",
            " 33   ay_001  5000 non-null   object\n",
            " 34   ay_002  5000 non-null   object\n",
            " 35   ay_003  5000 non-null   object\n",
            " 36   ay_004  5000 non-null   object\n",
            " 37   ay_005  5000 non-null   object\n",
            " 38   ay_006  5000 non-null   object\n",
            " 39   ay_007  5000 non-null   object\n",
            " 40   ay_008  5000 non-null   object\n",
            " 41   ay_009  5000 non-null   object\n",
            " 42   az_000  5000 non-null   object\n",
            " 43   az_001  5000 non-null   object\n",
            " 44   az_002  5000 non-null   object\n",
            " 45   az_003  5000 non-null   object\n",
            " 46   az_004  5000 non-null   object\n",
            " 47   az_005  5000 non-null   object\n",
            " 48   az_006  5000 non-null   object\n",
            " 49   az_007  5000 non-null   object\n",
            " 50   az_008  5000 non-null   object\n",
            " 51   az_009  5000 non-null   object\n",
            " 52   ba_000  5000 non-null   object\n",
            " 53   ba_001  5000 non-null   object\n",
            " 54   ba_002  5000 non-null   object\n",
            " 55   ba_003  5000 non-null   object\n",
            " 56   ba_004  5000 non-null   object\n",
            " 57   ba_005  5000 non-null   object\n",
            " 58   ba_006  5000 non-null   object\n",
            " 59   ba_007  5000 non-null   object\n",
            " 60   ba_008  5000 non-null   object\n",
            " 61   ba_009  5000 non-null   object\n",
            " 62   bb_000  5000 non-null   object\n",
            " 63   bc_000  5000 non-null   object\n",
            " 64   bd_000  5000 non-null   object\n",
            " 65   be_000  5000 non-null   object\n",
            " 66   bf_000  5000 non-null   object\n",
            " 67   bg_000  5000 non-null   object\n",
            " 68   bh_000  5000 non-null   object\n",
            " 69   bi_000  5000 non-null   object\n",
            " 70   bj_000  5000 non-null   object\n",
            " 71   bk_000  5000 non-null   object\n",
            " 72   bl_000  5000 non-null   object\n",
            " 73   bm_000  5000 non-null   object\n",
            " 74   bn_000  5000 non-null   object\n",
            " 75   bo_000  5000 non-null   object\n",
            " 76   bp_000  5000 non-null   object\n",
            " 77   bq_000  5000 non-null   object\n",
            " 78   br_000  5000 non-null   object\n",
            " 79   bs_000  5000 non-null   object\n",
            " 80   bt_000  5000 non-null   object\n",
            " 81   bu_000  5000 non-null   object\n",
            " 82   bv_000  5000 non-null   object\n",
            " 83   bx_000  5000 non-null   object\n",
            " 84   by_000  5000 non-null   object\n",
            " 85   bz_000  5000 non-null   object\n",
            " 86   ca_000  5000 non-null   object\n",
            " 87   cb_000  5000 non-null   object\n",
            " 88   cc_000  5000 non-null   object\n",
            " 89   cd_000  5000 non-null   object\n",
            " 90   ce_000  5000 non-null   object\n",
            " 91   cf_000  5000 non-null   object\n",
            " 92   cg_000  5000 non-null   object\n",
            " 93   ch_000  5000 non-null   object\n",
            " 94   ci_000  5000 non-null   object\n",
            " 95   cj_000  5000 non-null   object\n",
            " 96   ck_000  5000 non-null   object\n",
            " 97   cl_000  5000 non-null   object\n",
            " 98   cm_000  5000 non-null   object\n",
            " 99   cn_000  5000 non-null   object\n",
            " 100  cn_001  5000 non-null   object\n",
            " 101  cn_002  5000 non-null   object\n",
            " 102  cn_003  5000 non-null   object\n",
            " 103  cn_004  5000 non-null   object\n",
            " 104  cn_005  5000 non-null   object\n",
            " 105  cn_006  5000 non-null   object\n",
            " 106  cn_007  5000 non-null   object\n",
            " 107  cn_008  5000 non-null   object\n",
            " 108  cn_009  5000 non-null   object\n",
            " 109  co_000  5000 non-null   object\n",
            " 110  cp_000  5000 non-null   object\n",
            " 111  cq_000  5000 non-null   object\n",
            " 112  cr_000  5000 non-null   object\n",
            " 113  cs_000  5000 non-null   object\n",
            " 114  cs_001  5000 non-null   object\n",
            " 115  cs_002  5000 non-null   object\n",
            " 116  cs_003  5000 non-null   object\n",
            " 117  cs_004  5000 non-null   object\n",
            " 118  cs_005  5000 non-null   object\n",
            " 119  cs_006  5000 non-null   object\n",
            " 120  cs_007  5000 non-null   object\n",
            " 121  cs_008  5000 non-null   object\n",
            " 122  cs_009  5000 non-null   object\n",
            " 123  ct_000  5000 non-null   object\n",
            " 124  cu_000  5000 non-null   object\n",
            " 125  cv_000  5000 non-null   object\n",
            " 126  cx_000  5000 non-null   object\n",
            " 127  cy_000  5000 non-null   object\n",
            " 128  cz_000  5000 non-null   object\n",
            " 129  da_000  5000 non-null   object\n",
            " 130  db_000  5000 non-null   object\n",
            " 131  dc_000  5000 non-null   object\n",
            " 132  dd_000  5000 non-null   object\n",
            " 133  de_000  5000 non-null   object\n",
            " 134  df_000  5000 non-null   object\n",
            " 135  dg_000  5000 non-null   object\n",
            " 136  dh_000  5000 non-null   object\n",
            " 137  di_000  5000 non-null   object\n",
            " 138  dj_000  5000 non-null   object\n",
            " 139  dk_000  5000 non-null   object\n",
            " 140  dl_000  5000 non-null   object\n",
            " 141  dm_000  5000 non-null   object\n",
            " 142  dn_000  5000 non-null   object\n",
            " 143  do_000  5000 non-null   object\n",
            " 144  dp_000  5000 non-null   object\n",
            " 145  dq_000  5000 non-null   object\n",
            " 146  dr_000  5000 non-null   object\n",
            " 147  ds_000  5000 non-null   object\n",
            " 148  dt_000  5000 non-null   object\n",
            " 149  du_000  5000 non-null   object\n",
            " 150  dv_000  5000 non-null   object\n",
            " 151  dx_000  5000 non-null   object\n",
            " 152  dy_000  5000 non-null   object\n",
            " 153  dz_000  5000 non-null   object\n",
            " 154  ea_000  5000 non-null   object\n",
            " 155  eb_000  5000 non-null   object\n",
            " 156  ec_00   5000 non-null   object\n",
            " 157  ed_000  5000 non-null   object\n",
            " 158  ee_000  5000 non-null   object\n",
            " 159  ee_001  5000 non-null   object\n",
            " 160  ee_002  5000 non-null   object\n",
            " 161  ee_003  5000 non-null   object\n",
            " 162  ee_004  5000 non-null   object\n",
            " 163  ee_005  5000 non-null   object\n",
            " 164  ee_006  5000 non-null   object\n",
            " 165  ee_007  5000 non-null   object\n",
            " 166  ee_008  5000 non-null   object\n",
            " 167  ee_009  5000 non-null   object\n",
            " 168  ef_000  5000 non-null   object\n",
            " 169  eg_000  5000 non-null   object\n",
            "dtypes: int64(1), object(169)\n",
            "memory usage: 6.5+ MB\n"
          ]
        }
      ]
    },
    {
      "cell_type": "code",
      "source": [
        "y=pd.get_dummies(y,drop_first=True)"
      ],
      "metadata": {
        "id": "adDW28S5cpMN"
      },
      "execution_count": null,
      "outputs": []
    },
    {
      "cell_type": "code",
      "source": [
        "# Splitting the dataset into the Training set and Test set\n",
        "from sklearn.model_selection import train_test_split\n",
        "X_train, X_test, y_train, y_test = train_test_split(X, y, test_size = 0.2, random_state = 0)"
      ],
      "metadata": {
        "id": "BmNIMELUcuNu"
      },
      "execution_count": null,
      "outputs": []
    },
    {
      "cell_type": "code",
      "source": [
        "print(X_train.shape)\n",
        "print(X_test.shape)\n",
        "print(y_train.shape)\n",
        "print(y_test.shape)"
      ],
      "metadata": {
        "colab": {
          "base_uri": "https://localhost:8080/"
        },
        "id": "hyErY7U7cy6s",
        "outputId": "437ea55e-102e-45c9-93d9-b1470ec64a26"
      },
      "execution_count": null,
      "outputs": [
        {
          "output_type": "stream",
          "name": "stdout",
          "text": [
            "(4000, 170)\n",
            "(1000, 170)\n",
            "(4000, 1)\n",
            "(1000, 1)\n"
          ]
        }
      ]
    },
    {
      "cell_type": "code",
      "source": [
        "from sklearn.preprocessing import StandardScaler\n",
        "sc=StandardScaler()\n",
        "X_train=sc.fit_transform(X_train)\n",
        "X_test=sc.transform(X_test)"
      ],
      "metadata": {
        "id": "lLqM3wMxc6_u"
      },
      "execution_count": null,
      "outputs": []
    },
    {
      "cell_type": "code",
      "source": [
        "# Importing the Keras libraries and packages\n",
        "import tensorflow.keras\n",
        "from tensorflow.keras.models import Sequential\n",
        "from tensorflow.keras.layers import Dense\n",
        "from tensorflow.keras.layers import Dropout"
      ],
      "metadata": {
        "id": "sBH3zVUQc_A8"
      },
      "execution_count": null,
      "outputs": []
    },
    {
      "cell_type": "code",
      "source": [
        "classifier=Sequential()"
      ],
      "metadata": {
        "id": "LMlRokr_ebIw"
      },
      "execution_count": null,
      "outputs": []
    },
    {
      "cell_type": "code",
      "source": [
        "classifier=Sequential()\n",
        "\n",
        "classifier.add(Dense(units=10,kernel_initializer='he_uniform',activation='relu',input_dim =170))\n",
        "\n",
        "classifier.add(Dense(units = 10, kernel_initializer = 'he_uniform',activation='relu'))\n",
        " \n",
        "classifier.add(Dense(units = 1, kernel_initializer = 'glorot_uniform', activation = 'sigmoid'))"
      ],
      "metadata": {
        "id": "K_1UwQUkedQY"
      },
      "execution_count": null,
      "outputs": []
    },
    {
      "cell_type": "code",
      "source": [
        "classifier.compile(optimizer = 'adam', loss = 'binary_crossentropy',metrics=['accuracy'])"
      ],
      "metadata": {
        "id": "Mctb-NN6elE6"
      },
      "execution_count": null,
      "outputs": []
    },
    {
      "cell_type": "code",
      "source": [
        "classifier.summary()"
      ],
      "metadata": {
        "colab": {
          "base_uri": "https://localhost:8080/"
        },
        "id": "vToGam0Ieo2K",
        "outputId": "b3010512-e493-4c2f-d0d8-a52ffe5a571f"
      },
      "execution_count": null,
      "outputs": [
        {
          "output_type": "stream",
          "name": "stdout",
          "text": [
            "Model: \"sequential_1\"\n",
            "_________________________________________________________________\n",
            " Layer (type)                Output Shape              Param #   \n",
            "=================================================================\n",
            " dense (Dense)               (None, 10)                1710      \n",
            "                                                                 \n",
            " dense_1 (Dense)             (None, 10)                110       \n",
            "                                                                 \n",
            " dense_2 (Dense)             (None, 1)                 11        \n",
            "                                                                 \n",
            "=================================================================\n",
            "Total params: 1,831\n",
            "Trainable params: 1,831\n",
            "Non-trainable params: 0\n",
            "_________________________________________________________________\n"
          ]
        }
      ]
    },
    {
      "cell_type": "code",
      "source": [
        "X_train"
      ],
      "metadata": {
        "colab": {
          "base_uri": "https://localhost:8080/"
        },
        "id": "gDVx6UDQer9L",
        "outputId": "673f38ba-8fc0-4d6c-c66f-08b7af4f1cf7"
      },
      "execution_count": null,
      "outputs": [
        {
          "output_type": "execute_result",
          "data": {
            "text/plain": [
              "array([[-0.39032946, -0.09154375, -0.42501521, ..., -0.22182035,\n",
              "        -0.02192406, -0.03999294],\n",
              "       [-0.20021489, -0.09154375, -0.4250143 , ..., -0.22182035,\n",
              "        -0.02192406, -0.03999294],\n",
              "       [-0.20408745, -0.09154375, -0.42501366, ..., -0.05193089,\n",
              "        -0.02192406, -0.03999294],\n",
              "       ...,\n",
              "       [ 0.15651904, -0.09154375, -0.42501506, ...,  0.04890126,\n",
              "        -0.02192406, -0.03999294],\n",
              "       [-0.01055809, -0.09154375, -0.42501526, ..., -0.22182035,\n",
              "        -0.02192406, -0.03999294],\n",
              "       [-0.39109655, -0.09154375, -0.42501525, ..., -0.22182035,\n",
              "        -0.02192406, -0.03999294]])"
            ]
          },
          "metadata": {},
          "execution_count": 30
        }
      ]
    },
    {
      "cell_type": "code",
      "source": [
        "X_train"
      ],
      "metadata": {
        "colab": {
          "base_uri": "https://localhost:8080/"
        },
        "id": "oUKOLP-7exgP",
        "outputId": "0828d981-3e43-40b7-fe75-f01d0defea21"
      },
      "execution_count": null,
      "outputs": [
        {
          "output_type": "execute_result",
          "data": {
            "text/plain": [
              "array([[-0.39032946, -0.09154375, -0.42501521, ..., -0.22182035,\n",
              "        -0.02192406, -0.03999294],\n",
              "       [-0.20021489, -0.09154375, -0.4250143 , ..., -0.22182035,\n",
              "        -0.02192406, -0.03999294],\n",
              "       [-0.20408745, -0.09154375, -0.42501366, ..., -0.05193089,\n",
              "        -0.02192406, -0.03999294],\n",
              "       ...,\n",
              "       [ 0.15651904, -0.09154375, -0.42501506, ...,  0.04890126,\n",
              "        -0.02192406, -0.03999294],\n",
              "       [-0.01055809, -0.09154375, -0.42501526, ..., -0.22182035,\n",
              "        -0.02192406, -0.03999294],\n",
              "       [-0.39109655, -0.09154375, -0.42501525, ..., -0.22182035,\n",
              "        -0.02192406, -0.03999294]])"
            ]
          },
          "metadata": {},
          "execution_count": 31
        }
      ]
    },
    {
      "cell_type": "code",
      "source": [
        "model_history=classifier.fit(X_train,y_train,batch_size=10,epochs=30,validation_split=0.25)"
      ],
      "metadata": {
        "colab": {
          "base_uri": "https://localhost:8080/"
        },
        "id": "tSGO6QOKe2bT",
        "outputId": "6ef6c05e-6b70-4a36-91a2-285520eadd51"
      },
      "execution_count": null,
      "outputs": [
        {
          "output_type": "stream",
          "name": "stdout",
          "text": [
            "Epoch 1/30\n",
            "300/300 [==============================] - 4s 3ms/step - loss: 0.1785 - accuracy: 0.9740 - val_loss: 0.0851 - val_accuracy: 0.9810\n",
            "Epoch 2/30\n",
            "300/300 [==============================] - 1s 3ms/step - loss: 0.0519 - accuracy: 0.9877 - val_loss: 0.0586 - val_accuracy: 0.9840\n",
            "Epoch 3/30\n",
            "300/300 [==============================] - 1s 3ms/step - loss: 0.0307 - accuracy: 0.9897 - val_loss: 0.0571 - val_accuracy: 0.9830\n",
            "Epoch 4/30\n",
            "300/300 [==============================] - 1s 3ms/step - loss: 0.0250 - accuracy: 0.9917 - val_loss: 0.0703 - val_accuracy: 0.9840\n",
            "Epoch 5/30\n",
            "300/300 [==============================] - 1s 3ms/step - loss: 0.0211 - accuracy: 0.9937 - val_loss: 0.0723 - val_accuracy: 0.9880\n",
            "Epoch 6/30\n",
            "300/300 [==============================] - 1s 3ms/step - loss: 0.0174 - accuracy: 0.9943 - val_loss: 0.0697 - val_accuracy: 0.9830\n",
            "Epoch 7/30\n",
            "300/300 [==============================] - 1s 3ms/step - loss: 0.0151 - accuracy: 0.9953 - val_loss: 0.0686 - val_accuracy: 0.9840\n",
            "Epoch 8/30\n",
            "300/300 [==============================] - 1s 3ms/step - loss: 0.0134 - accuracy: 0.9953 - val_loss: 0.0719 - val_accuracy: 0.9870\n",
            "Epoch 9/30\n",
            "300/300 [==============================] - 1s 3ms/step - loss: 0.0114 - accuracy: 0.9957 - val_loss: 0.0749 - val_accuracy: 0.9860\n",
            "Epoch 10/30\n",
            "300/300 [==============================] - 1s 3ms/step - loss: 0.0102 - accuracy: 0.9963 - val_loss: 0.0711 - val_accuracy: 0.9850\n",
            "Epoch 11/30\n",
            "300/300 [==============================] - 1s 3ms/step - loss: 0.0128 - accuracy: 0.9963 - val_loss: 0.0801 - val_accuracy: 0.9830\n",
            "Epoch 12/30\n",
            "300/300 [==============================] - 1s 3ms/step - loss: 0.0107 - accuracy: 0.9970 - val_loss: 0.0763 - val_accuracy: 0.9870\n",
            "Epoch 13/30\n",
            "300/300 [==============================] - 1s 3ms/step - loss: 0.0068 - accuracy: 0.9977 - val_loss: 0.0850 - val_accuracy: 0.9870\n",
            "Epoch 14/30\n",
            "300/300 [==============================] - 1s 3ms/step - loss: 0.0061 - accuracy: 0.9987 - val_loss: 0.0829 - val_accuracy: 0.9890\n",
            "Epoch 15/30\n",
            "300/300 [==============================] - 1s 3ms/step - loss: 0.0064 - accuracy: 0.9977 - val_loss: 0.0876 - val_accuracy: 0.9880\n",
            "Epoch 16/30\n",
            "300/300 [==============================] - 1s 3ms/step - loss: 0.0054 - accuracy: 0.9987 - val_loss: 0.0793 - val_accuracy: 0.9890\n",
            "Epoch 17/30\n",
            "300/300 [==============================] - 1s 3ms/step - loss: 0.0063 - accuracy: 0.9977 - val_loss: 0.0931 - val_accuracy: 0.9840\n",
            "Epoch 18/30\n",
            "300/300 [==============================] - 1s 3ms/step - loss: 0.0043 - accuracy: 0.9990 - val_loss: 0.0983 - val_accuracy: 0.9880\n",
            "Epoch 19/30\n",
            "300/300 [==============================] - 1s 3ms/step - loss: 0.0109 - accuracy: 0.9973 - val_loss: 0.0914 - val_accuracy: 0.9880\n",
            "Epoch 20/30\n",
            "300/300 [==============================] - 1s 3ms/step - loss: 0.0046 - accuracy: 0.9987 - val_loss: 0.1152 - val_accuracy: 0.9850\n",
            "Epoch 21/30\n",
            "300/300 [==============================] - 1s 3ms/step - loss: 0.0045 - accuracy: 0.9990 - val_loss: 0.0998 - val_accuracy: 0.9870\n",
            "Epoch 22/30\n",
            "300/300 [==============================] - 1s 3ms/step - loss: 0.0034 - accuracy: 0.9990 - val_loss: 0.0973 - val_accuracy: 0.9880\n",
            "Epoch 23/30\n",
            "300/300 [==============================] - 1s 3ms/step - loss: 0.0030 - accuracy: 0.9990 - val_loss: 0.1045 - val_accuracy: 0.9860\n",
            "Epoch 24/30\n",
            "300/300 [==============================] - 1s 3ms/step - loss: 0.0027 - accuracy: 0.9990 - val_loss: 0.1053 - val_accuracy: 0.9870\n",
            "Epoch 25/30\n",
            "300/300 [==============================] - 1s 3ms/step - loss: 0.0025 - accuracy: 0.9990 - val_loss: 0.1096 - val_accuracy: 0.9870\n",
            "Epoch 26/30\n",
            "300/300 [==============================] - 1s 3ms/step - loss: 0.0022 - accuracy: 0.9990 - val_loss: 0.1155 - val_accuracy: 0.9820\n",
            "Epoch 27/30\n",
            "300/300 [==============================] - 1s 3ms/step - loss: 0.0090 - accuracy: 0.9967 - val_loss: 0.1559 - val_accuracy: 0.9840\n",
            "Epoch 28/30\n",
            "300/300 [==============================] - 1s 3ms/step - loss: 0.0321 - accuracy: 0.9953 - val_loss: 0.1000 - val_accuracy: 0.9870\n",
            "Epoch 29/30\n",
            "300/300 [==============================] - 1s 4ms/step - loss: 0.0071 - accuracy: 0.9970 - val_loss: 0.1219 - val_accuracy: 0.9820\n",
            "Epoch 30/30\n",
            "300/300 [==============================] - 1s 3ms/step - loss: 0.0031 - accuracy: 0.9987 - val_loss: 0.1162 - val_accuracy: 0.9830\n"
          ]
        }
      ]
    },
    {
      "cell_type": "code",
      "source": [
        "model_history.history.keys()"
      ],
      "metadata": {
        "colab": {
          "base_uri": "https://localhost:8080/"
        },
        "id": "vnxF0nUefYUz",
        "outputId": "e8bbc61f-8c62-430b-b838-a705c8ab926e"
      },
      "execution_count": null,
      "outputs": [
        {
          "output_type": "execute_result",
          "data": {
            "text/plain": [
              "dict_keys(['loss', 'accuracy', 'val_loss', 'val_accuracy'])"
            ]
          },
          "metadata": {},
          "execution_count": 33
        }
      ]
    },
    {
      "cell_type": "code",
      "source": [
        "model_history.history['accuracy']"
      ],
      "metadata": {
        "colab": {
          "base_uri": "https://localhost:8080/"
        },
        "id": "LD3S-zrTfRT2",
        "outputId": "ab316940-e02d-4ff9-c445-3e870831440c"
      },
      "execution_count": null,
      "outputs": [
        {
          "output_type": "execute_result",
          "data": {
            "text/plain": [
              "[0.9739999771118164,\n",
              " 0.987666666507721,\n",
              " 0.9896666407585144,\n",
              " 0.9916666746139526,\n",
              " 0.9936666488647461,\n",
              " 0.9943333268165588,\n",
              " 0.9953333139419556,\n",
              " 0.9953333139419556,\n",
              " 0.9956666827201843,\n",
              " 0.9963333606719971,\n",
              " 0.9963333606719971,\n",
              " 0.996999979019165,\n",
              " 0.9976666569709778,\n",
              " 0.9986666440963745,\n",
              " 0.9976666569709778,\n",
              " 0.9986666440963745,\n",
              " 0.9976666569709778,\n",
              " 0.9990000128746033,\n",
              " 0.9973333477973938,\n",
              " 0.9986666440963745,\n",
              " 0.9990000128746033,\n",
              " 0.9990000128746033,\n",
              " 0.9990000128746033,\n",
              " 0.9990000128746033,\n",
              " 0.9990000128746033,\n",
              " 0.9990000128746033,\n",
              " 0.996666669845581,\n",
              " 0.9953333139419556,\n",
              " 0.996999979019165,\n",
              " 0.9986666440963745]"
            ]
          },
          "metadata": {},
          "execution_count": 34
        }
      ]
    },
    {
      "cell_type": "code",
      "source": [
        "# list all data in history\n",
        "\n",
        "print(model_history.history.keys())\n",
        "# summarize history for accuracy\n",
        "plt.plot(model_history.history['accuracy'])\n",
        "plt.plot(model_history.history['val_accuracy'])\n",
        "plt.title('model accuracy')\n",
        "plt.ylabel('accuracy')\n",
        "plt.xlabel('epoch')\n",
        "plt.legend(['train', 'test'], loc='upper left')\n",
        "plt.show()"
      ],
      "metadata": {
        "colab": {
          "base_uri": "https://localhost:8080/",
          "height": 312
        },
        "id": "B_VfdkKAffAM",
        "outputId": "5deb63e9-8cc1-4793-8163-9171a0ea2cf0"
      },
      "execution_count": null,
      "outputs": [
        {
          "output_type": "stream",
          "name": "stdout",
          "text": [
            "dict_keys(['loss', 'accuracy', 'val_loss', 'val_accuracy'])\n"
          ]
        },
        {
          "output_type": "display_data",
          "data": {
            "text/plain": [
              "<Figure size 432x288 with 1 Axes>"
            ],
            "image/png": "[encoded data removed]"
          },
          "metadata": {
            "needs_background": "light"
          }
        }
      ]
    },
    {
      "cell_type": "code",
      "source": [
        "# summarize history for accuracy\n",
        "plt.plot(model_history.history['loss'])\n",
        "plt.plot(model_history.history['val_loss'])\n",
        "plt.title('model accuracy')\n",
        "plt.ylabel('loss')\n",
        "plt.xlabel('epoch')\n",
        "plt.legend(['train', 'test'], loc='upper left')\n",
        "plt.show()"
      ],
      "metadata": {
        "colab": {
          "base_uri": "https://localhost:8080/",
          "height": 295
        },
        "id": "Rdqkxn7GflxF",
        "outputId": "e1993d87-1b0e-47c1-c8e8-e25f96de5268"
      },
      "execution_count": null,
      "outputs": [
        {
          "output_type": "display_data",
          "data": {
            "text/plain": [
              "<Figure size 432x288 with 1 Axes>"
            ],
            "image/png": "[encoded data removed]"
          },
          "metadata": {
            "needs_background": "light"
          }
        }
      ]
    },
    {
      "cell_type": "code",
      "source": [
        "X_test.shape"
      ],
      "metadata": {
        "colab": {
          "base_uri": "https://localhost:8080/"
        },
        "id": "WnjEQ9YHfqf_",
        "outputId": "8106b6b2-51c6-408f-fdd4-3fcb77eeedcc"
      },
      "execution_count": null,
      "outputs": [
        {
          "output_type": "execute_result",
          "data": {
            "text/plain": [
              "(1000, 170)"
            ]
          },
          "metadata": {},
          "execution_count": 37
        }
      ]
    },
    {
      "cell_type": "code",
      "source": [
        "y_pred=classifier.predict(X_test)"
      ],
      "metadata": {
        "colab": {
          "base_uri": "https://localhost:8080/"
        },
        "id": "ifE3W9PEfuaD",
        "outputId": "232d1856-6bc1-4272-8b0a-2fc9133217e2"
      },
      "execution_count": null,
      "outputs": [
        {
          "output_type": "stream",
          "name": "stdout",
          "text": [
            "32/32 [==============================] - 0s 1ms/step\n"
          ]
        }
      ]
    },
    {
      "cell_type": "code",
      "source": [
        "#for the sigmoid my threshold is 0."
      ],
      "metadata": {
        "id": "iw3xa8gWfwZe"
      },
      "execution_count": null,
      "outputs": []
    },
    {
      "cell_type": "code",
      "source": [
        "y_pred=y_pred>0.5"
      ],
      "metadata": {
        "id": "rIt-xAtrfy_p"
      },
      "execution_count": null,
      "outputs": []
    },
    {
      "cell_type": "code",
      "source": [
        "from sklearn.metrics import confusion_matrix"
      ],
      "metadata": {
        "id": "AwM5S1V3f0x_"
      },
      "execution_count": null,
      "outputs": []
    },
    {
      "cell_type": "code",
      "source": [
        "y_test.shape"
      ],
      "metadata": {
        "colab": {
          "base_uri": "https://localhost:8080/"
        },
        "id": "FgZSRpkff3In",
        "outputId": "d9912207-f19e-4fea-9db2-78f43e3a95a0"
      },
      "execution_count": null,
      "outputs": [
        {
          "output_type": "execute_result",
          "data": {
            "text/plain": [
              "(1000, 1)"
            ]
          },
          "metadata": {},
          "execution_count": 42
        }
      ]
    },
    {
      "cell_type": "code",
      "source": [
        "y_pred.shape"
      ],
      "metadata": {
        "colab": {
          "base_uri": "https://localhost:8080/"
        },
        "id": "mRDH6HQtf5Ky",
        "outputId": "08d6fd61-f424-4d0d-fdf0-54a294e0f9d9"
      },
      "execution_count": null,
      "outputs": [
        {
          "output_type": "execute_result",
          "data": {
            "text/plain": [
              "(1000, 1)"
            ]
          },
          "metadata": {},
          "execution_count": 43
        }
      ]
    },
    {
      "cell_type": "code",
      "source": [
        "confusion_matrix(y_test,y_pred)"
      ],
      "metadata": {
        "colab": {
          "base_uri": "https://localhost:8080/"
        },
        "id": "P_P0Ej2Gf6_u",
        "outputId": "4e0c5c76-0c2c-4c8a-a5aa-710d701e3250"
      },
      "execution_count": null,
      "outputs": [
        {
          "output_type": "execute_result",
          "data": {
            "text/plain": [
              "array([[979,   7],\n",
              "       [  5,   9]])"
            ]
          },
          "metadata": {},
          "execution_count": 44
        }
      ]
    },
    {
      "cell_type": "code",
      "source": [
        "import time\n",
        "import os\n",
        "\n",
        "def saveModel_path(model_dir=\"SAVED_MODELS\"):\n",
        "    os.makedirs(model_dir, exist_ok=True)\n",
        "    fileName = time.strftime(\"Model_%Y_%m_%d_%H_%M_%S_.h5\")    \n",
        "    model_path = os.path.join(model_dir, fileName)\n",
        "    print(f\"your model will be saved at the following location\\n{model_path}\")\n",
        "    return model_path"
      ],
      "metadata": {
        "id": "oQgTl5wyf96A"
      },
      "execution_count": null,
      "outputs": []
    },
    {
      "cell_type": "code",
      "source": [
        "classifier.save(saveModel_path())"
      ],
      "metadata": {
        "colab": {
          "base_uri": "https://localhost:8080/"
        },
        "id": "VugjNtdfgEX4",
        "outputId": "a282a103-1d03-4025-88e3-62fe91f7fb2f"
      },
      "execution_count": null,
      "outputs": [
        {
          "output_type": "stream",
          "name": "stdout",
          "text": [
            "your model will be saved at the following location\n",
            "SAVED_MODELS/Model_2023_01_23_16_40_18_.h5\n"
          ]
        }
      ]
    },
    {
      "cell_type": "code",
      "source": [
        "#hyperparameter tunig with keras tuner"
      ],
      "metadata": {
        "id": "ZrA38mwFgH7S"
      },
      "execution_count": null,
      "outputs": []
    },
    {
      "cell_type": "code",
      "source": [
        "!pip install keras-tuner --upgrade"
      ],
      "metadata": {
        "colab": {
          "base_uri": "https://localhost:8080/"
        },
        "id": "FqDlax3jgNp6",
        "outputId": "0c9a32c7-9a27-4fc3-ac09-36e7e4d6cec6"
      },
      "execution_count": null,
      "outputs": [
        {
          "output_type": "stream",
          "name": "stdout",
          "text": [
            "Looking in indexes: https://pypi.org/simple, https://us-python.pkg.dev/colab-wheels/public/simple/\n",
            "Collecting keras-tuner\n",
            "  Downloading keras_tuner-1.1.3-py3-none-any.whl (135 kB)\n",
            "\u001b[2K     \u001b[90m━━━━━━━━━━━━━━━━━━━━━━━━━━━━━━━━━━━━━━\u001b[0m \u001b[32m135.7/135.7 KB\u001b[0m \u001b[31m14.4 MB/s\u001b[0m eta \u001b[36m0:00:00\u001b[0m\n",
            "\u001b[?25hRequirement already satisfied: numpy in /usr/local/lib/python3.8/dist-packages (from keras-tuner) (1.21.6)\n",
            "Requirement already satisfied: ipython in /usr/local/lib/python3.8/dist-packages (from keras-tuner) (7.9.0)\n",
            "Requirement already satisfied: packaging in /usr/local/lib/python3.8/dist-packages (from keras-tuner) (21.3)\n",
            "Requirement already satisfied: tensorboard in /usr/local/lib/python3.8/dist-packages (from keras-tuner) (2.9.1)\n",
            "Requirement already satisfied: requests in /usr/local/lib/python3.8/dist-packages (from keras-tuner) (2.25.1)\n",
            "Collecting kt-legacy\n",
            "  Downloading kt_legacy-1.0.4-py3-none-any.whl (9.6 kB)\n",
            "Requirement already satisfied: pickleshare in /usr/local/lib/python3.8/dist-packages (from ipython->keras-tuner) (0.7.5)\n",
            "Requirement already satisfied: prompt-toolkit<2.1.0,>=2.0.0 in /usr/local/lib/python3.8/dist-packages (from ipython->keras-tuner) (2.0.10)\n",
            "Collecting jedi>=0.10\n",
            "  Downloading jedi-0.18.2-py2.py3-none-any.whl (1.6 MB)\n",
            "\u001b[2K     \u001b[90m━━━━━━━━━━━━━━━━━━━━━━━━━━━━━━━━━━━━━━━━\u001b[0m \u001b[32m1.6/1.6 MB\u001b[0m \u001b[31m77.2 MB/s\u001b[0m eta \u001b[36m0:00:00\u001b[0m\n",
            "\u001b[?25hRequirement already satisfied: pygments in /usr/local/lib/python3.8/dist-packages (from ipython->keras-tuner) (2.6.1)\n",
            "Requirement already satisfied: decorator in /usr/local/lib/python3.8/dist-packages (from ipython->keras-tuner) (4.4.2)\n",
            "Requirement already satisfied: traitlets>=4.2 in /usr/local/lib/python3.8/dist-packages (from ipython->keras-tuner) (5.7.1)\n",
            "Requirement already satisfied: backcall in /usr/local/lib/python3.8/dist-packages (from ipython->keras-tuner) (0.2.0)\n",
            "Requirement already satisfied: setuptools>=18.5 in /usr/local/lib/python3.8/dist-packages (from ipython->keras-tuner) (57.4.0)\n",
            "Requirement already satisfied: pexpect in /usr/local/lib/python3.8/dist-packages (from ipython->keras-tuner) (4.8.0)\n",
            "Requirement already satisfied: pyparsing!=3.0.5,>=2.0.2 in /usr/local/lib/python3.8/dist-packages (from packaging->keras-tuner) (3.0.9)\n",
            "Requirement already satisfied: chardet<5,>=3.0.2 in /usr/local/lib/python3.8/dist-packages (from requests->keras-tuner) (4.0.0)\n",
            "Requirement already satisfied: certifi>=2017.4.17 in /usr/local/lib/python3.8/dist-packages (from requests->keras-tuner) (2022.12.7)\n",
            "Requirement already satisfied: idna<3,>=2.5 in /usr/local/lib/python3.8/dist-packages (from requests->keras-tuner) (2.10)\n",
            "Requirement already satisfied: urllib3<1.27,>=1.21.1 in /usr/local/lib/python3.8/dist-packages (from requests->keras-tuner) (1.24.3)\n",
            "Requirement already satisfied: protobuf<3.20,>=3.9.2 in /usr/local/lib/python3.8/dist-packages (from tensorboard->keras-tuner) (3.19.6)\n",
            "Requirement already satisfied: grpcio>=1.24.3 in /usr/local/lib/python3.8/dist-packages (from tensorboard->keras-tuner) (1.51.1)\n",
            "Requirement already satisfied: markdown>=2.6.8 in /usr/local/lib/python3.8/dist-packages (from tensorboard->keras-tuner) (3.4.1)\n",
            "Requirement already satisfied: absl-py>=0.4 in /usr/local/lib/python3.8/dist-packages (from tensorboard->keras-tuner) (1.3.0)\n",
            "Requirement already satisfied: werkzeug>=1.0.1 in /usr/local/lib/python3.8/dist-packages (from tensorboard->keras-tuner) (1.0.1)\n",
            "Requirement already satisfied: wheel>=0.26 in /usr/local/lib/python3.8/dist-packages (from tensorboard->keras-tuner) (0.38.4)\n",
            "Requirement already satisfied: tensorboard-plugin-wit>=1.6.0 in /usr/local/lib/python3.8/dist-packages (from tensorboard->keras-tuner) (1.8.1)\n",
            "Requirement already satisfied: tensorboard-data-server<0.7.0,>=0.6.0 in /usr/local/lib/python3.8/dist-packages (from tensorboard->keras-tuner) (0.6.1)\n",
            "Requirement already satisfied: google-auth<3,>=1.6.3 in /usr/local/lib/python3.8/dist-packages (from tensorboard->keras-tuner) (2.16.0)\n",
            "Requirement already satisfied: google-auth-oauthlib<0.5,>=0.4.1 in /usr/local/lib/python3.8/dist-packages (from tensorboard->keras-tuner) (0.4.6)\n",
            "Requirement already satisfied: pyasn1-modules>=0.2.1 in /usr/local/lib/python3.8/dist-packages (from google-auth<3,>=1.6.3->tensorboard->keras-tuner) (0.2.8)\n",
            "Requirement already satisfied: six>=1.9.0 in /usr/local/lib/python3.8/dist-packages (from google-auth<3,>=1.6.3->tensorboard->keras-tuner) (1.15.0)\n",
            "Requirement already satisfied: rsa<5,>=3.1.4 in /usr/local/lib/python3.8/dist-packages (from google-auth<3,>=1.6.3->tensorboard->keras-tuner) (4.9)\n",
            "Requirement already satisfied: cachetools<6.0,>=2.0.0 in /usr/local/lib/python3.8/dist-packages (from google-auth<3,>=1.6.3->tensorboard->keras-tuner) (5.2.1)\n",
            "Requirement already satisfied: requests-oauthlib>=0.7.0 in /usr/local/lib/python3.8/dist-packages (from google-auth-oauthlib<0.5,>=0.4.1->tensorboard->keras-tuner) (1.3.1)\n",
            "Requirement already satisfied: parso<0.9.0,>=0.8.0 in /usr/local/lib/python3.8/dist-packages (from jedi>=0.10->ipython->keras-tuner) (0.8.3)\n",
            "Requirement already satisfied: importlib-metadata>=4.4 in /usr/local/lib/python3.8/dist-packages (from markdown>=2.6.8->tensorboard->keras-tuner) (6.0.0)\n",
            "Requirement already satisfied: wcwidth in /usr/local/lib/python3.8/dist-packages (from prompt-toolkit<2.1.0,>=2.0.0->ipython->keras-tuner) (0.2.5)\n",
            "Requirement already satisfied: ptyprocess>=0.5 in /usr/local/lib/python3.8/dist-packages (from pexpect->ipython->keras-tuner) (0.7.0)\n",
            "Requirement already satisfied: zipp>=0.5 in /usr/local/lib/python3.8/dist-packages (from importlib-metadata>=4.4->markdown>=2.6.8->tensorboard->keras-tuner) (3.11.0)\n",
            "Requirement already satisfied: pyasn1<0.5.0,>=0.4.6 in /usr/local/lib/python3.8/dist-packages (from pyasn1-modules>=0.2.1->google-auth<3,>=1.6.3->tensorboard->keras-tuner) (0.4.8)\n",
            "Requirement already satisfied: oauthlib>=3.0.0 in /usr/local/lib/python3.8/dist-packages (from requests-oauthlib>=0.7.0->google-auth-oauthlib<0.5,>=0.4.1->tensorboard->keras-tuner) (3.2.2)\n",
            "Installing collected packages: kt-legacy, jedi, keras-tuner\n",
            "Successfully installed jedi-0.18.2 keras-tuner-1.1.3 kt-legacy-1.0.4\n"
          ]
        }
      ]
    },
    {
      "cell_type": "code",
      "source": [
        "from kerastuner.tuners import RandomSearch"
      ],
      "metadata": {
        "colab": {
          "base_uri": "https://localhost:8080/"
        },
        "id": "dH6iY7SSgPW3",
        "outputId": "cc500fa0-534f-472e-f46b-db48e9effcc3"
      },
      "execution_count": null,
      "outputs": [
        {
          "output_type": "stream",
          "name": "stderr",
          "text": [
            "<ipython-input-49-94471a811b41>:1: DeprecationWarning: `import kerastuner` is deprecated, please use `import keras_tuner`.\n",
            "  from kerastuner.tuners import RandomSearch\n"
          ]
        }
      ]
    },
    {
      "cell_type": "code",
      "source": [
        "def build_model(hp):\n",
        "  model=Sequential()\n",
        "  model.add(Dense(units=32,kernel_initializer = 'he_uniform',activation='relu',input_dim=170))\n",
        "  model.add(Dense(units = 32, kernel_initializer = 'he_uniform',activation='relu'))\n",
        "  model.add(Dense(1,activation='sigmoid'))\n",
        "  optimizer=hp.Choice(\"optimizer\",values=[\"adam\",\"sgd\",\"rmsprop\",\"adadelta\"])\n",
        "  model.compile(optimizer=optimizer,loss='binary_crossentropy',metrics=['accuracy'])\n",
        "  return model\n"
      ],
      "metadata": {
        "id": "3mndbyP-gVOO"
      },
      "execution_count": null,
      "outputs": []
    },
    {
      "cell_type": "code",
      "source": [
        "tuner=RandomSearch(build_model,objective='val_accuracy',max_trials=5,directory='project1',project_name='aps-fault')"
      ],
      "metadata": {
        "id": "nXuRJrrKgX6r"
      },
      "execution_count": null,
      "outputs": []
    },
    {
      "cell_type": "code",
      "source": [
        "tuner.search(X_train,y_train,validation_data=(X_test,y_test),epochs=5)"
      ],
      "metadata": {
        "colab": {
          "base_uri": "https://localhost:8080/"
        },
        "id": "oOpb3hPLgcSZ",
        "outputId": "b079d85a-ebf9-4b6f-8c9a-4e8fe8b3e351"
      },
      "execution_count": null,
      "outputs": [
        {
          "output_type": "stream",
          "name": "stdout",
          "text": [
            "Trial 3 Complete [00h 00m 03s]\n",
            "val_accuracy: 0.9909999966621399\n",
            "\n",
            "Best val_accuracy So Far: 0.9909999966621399\n",
            "Total elapsed time: 00h 00m 10s\n"
          ]
        }
      ]
    },
    {
      "cell_type": "code",
      "source": [
        "tuner.get_best_hyperparameters()[0].values"
      ],
      "metadata": {
        "colab": {
          "base_uri": "https://localhost:8080/"
        },
        "id": "svx763x5gfq_",
        "outputId": "665ef0ea-de88-47a9-99e0-93d33881f1ec"
      },
      "execution_count": null,
      "outputs": [
        {
          "output_type": "execute_result",
          "data": {
            "text/plain": [
              "{'optimizer': 'adam'}"
            ]
          },
          "metadata": {},
          "execution_count": 53
        }
      ]
    },
    {
      "cell_type": "code",
      "source": [
        "mymodel=tuner.get_best_models(num_models=1)[0]"
      ],
      "metadata": {
        "id": "kwjdqQMVgjqp"
      },
      "execution_count": null,
      "outputs": []
    },
    {
      "cell_type": "code",
      "source": [
        "mymodel.summary()"
      ],
      "metadata": {
        "colab": {
          "base_uri": "https://localhost:8080/"
        },
        "id": "5GD2Gf40gll7",
        "outputId": "bf930514-a62f-4f77-b082-c34710e5e8af"
      },
      "execution_count": null,
      "outputs": [
        {
          "output_type": "stream",
          "name": "stdout",
          "text": [
            "Model: \"sequential\"\n",
            "_________________________________________________________________\n",
            " Layer (type)                Output Shape              Param #   \n",
            "=================================================================\n",
            " dense (Dense)               (None, 32)                5472      \n",
            "                                                                 \n",
            " dense_1 (Dense)             (None, 32)                1056      \n",
            "                                                                 \n",
            " dense_2 (Dense)             (None, 1)                 33        \n",
            "                                                                 \n",
            "=================================================================\n",
            "Total params: 6,561\n",
            "Trainable params: 6,561\n",
            "Non-trainable params: 0\n",
            "_________________________________________________________________\n"
          ]
        }
      ]
    },
    {
      "cell_type": "code",
      "source": [
        "for i in range( 2, 20):\n",
        "  print(i)"
      ],
      "metadata": {
        "colab": {
          "base_uri": "https://localhost:8080/"
        },
        "id": "yJAkudMbgnVf",
        "outputId": "d437cb0b-8f11-413d-f7e9-fae2e6ed76b0"
      },
      "execution_count": null,
      "outputs": [
        {
          "output_type": "stream",
          "name": "stdout",
          "text": [
            "2\n",
            "3\n",
            "4\n",
            "5\n",
            "6\n",
            "7\n",
            "8\n",
            "9\n",
            "10\n",
            "11\n",
            "12\n",
            "13\n",
            "14\n",
            "15\n",
            "16\n",
            "17\n",
            "18\n",
            "19\n"
          ]
        }
      ]
    },
    {
      "cell_type": "code",
      "source": [
        "32\n",
        "33\n",
        "34\n",
        "35\n",
        "36\n",
        "....512"
      ],
      "metadata": {
        "colab": {
          "base_uri": "https://localhost:8080/",
          "height": 130
        },
        "id": "ymMicwCOgrYN",
        "outputId": "bbe44e25-5b5e-4ec3-c59c-68c601c3a7b3"
      },
      "execution_count": null,
      "outputs": [
        {
          "output_type": "error",
          "ename": "SyntaxError",
          "evalue": "ignored",
          "traceback": [
            "\u001b[0;36m  File \u001b[0;32m\"<ipython-input-57-fe3211916dcd>\"\u001b[0;36m, line \u001b[0;32m6\u001b[0m\n\u001b[0;31m    ....512\u001b[0m\n\u001b[0m       ^\u001b[0m\n\u001b[0;31mSyntaxError\u001b[0m\u001b[0;31m:\u001b[0m invalid syntax\n"
          ]
        }
      ]
    },
    {
      "cell_type": "code",
      "source": [
        "32,64,128,256,512"
      ],
      "metadata": {
        "colab": {
          "base_uri": "https://localhost:8080/"
        },
        "id": "nvYkoysYgtqa",
        "outputId": "dede3054-f8e6-4cba-9a2a-a6f6b3dff663"
      },
      "execution_count": null,
      "outputs": [
        {
          "output_type": "execute_result",
          "data": {
            "text/plain": [
              "(32, 64, 128, 256, 512)"
            ]
          },
          "metadata": {},
          "execution_count": 58
        }
      ]
    },
    {
      "cell_type": "code",
      "source": [
        "from tensorflow.keras import optimizers\n",
        "def build_model(hp):\n",
        "    model = Sequential()\n",
        "    for i in range(hp.Int('num_layers', 2, 20)):\n",
        "        model.add(Dense(units=hp.Int('units_' + str(i),\n",
        "                                            min_value=32,\n",
        "                                            max_value=512,\n",
        "                                            step=32),\n",
        "                               activation='relu'))\n",
        "    model.add(Dense(1, activation='sigmoid'))\n",
        "    model.compile(\n",
        "        optimizer=optimizers.Adam(\n",
        "            hp.Choice('learning_rate', [1e-2, 1e-3, 1e-4])),\n",
        "        loss='binary_crossentropy',\n",
        "        metrics=['accuracy'])\n",
        "    return model"
      ],
      "metadata": {
        "id": "jMQIgVYygylE"
      },
      "execution_count": null,
      "outputs": []
    },
    {
      "cell_type": "code",
      "source": [
        "tuner_second=RandomSearch(build_model,objective='val_accuracy',max_trials=5,directory='project3',project_name='aps-fault-sensor')"
      ],
      "metadata": {
        "id": "5sStRvSgg1CH"
      },
      "execution_count": null,
      "outputs": []
    },
    {
      "cell_type": "code",
      "source": [
        "tuner_second.search(X_train,y_train,epochs=5,validation_data=(X_test,y_test))"
      ],
      "metadata": {
        "colab": {
          "base_uri": "https://localhost:8080/"
        },
        "id": "SvfPLsgLg3-V",
        "outputId": "4dc18ae0-5f14-427d-c01e-ba278a7135ee"
      },
      "execution_count": null,
      "outputs": [
        {
          "output_type": "stream",
          "name": "stdout",
          "text": [
            "Trial 5 Complete [00h 00m 04s]\n",
            "val_accuracy: 0.9909999966621399\n",
            "\n",
            "Best val_accuracy So Far: 0.9929999709129333\n",
            "Total elapsed time: 00h 00m 26s\n"
          ]
        }
      ]
    },
    {
      "cell_type": "code",
      "source": [
        "tuner_second.get_best_hyperparameters()[0].values"
      ],
      "metadata": {
        "colab": {
          "base_uri": "https://localhost:8080/"
        },
        "id": "esyCTb5Wg8-t",
        "outputId": "564df12a-9096-4b95-f544-69ab1f84943e"
      },
      "execution_count": null,
      "outputs": [
        {
          "output_type": "execute_result",
          "data": {
            "text/plain": [
              "{'num_layers': 13,\n",
              " 'units_0': 224,\n",
              " 'units_1': 160,\n",
              " 'learning_rate': 0.0001,\n",
              " 'units_2': 96,\n",
              " 'units_3': 256,\n",
              " 'units_4': 416,\n",
              " 'units_5': 192,\n",
              " 'units_6': 320,\n",
              " 'units_7': 32,\n",
              " 'units_8': 32,\n",
              " 'units_9': 128,\n",
              " 'units_10': 448,\n",
              " 'units_11': 160,\n",
              " 'units_12': 256,\n",
              " 'units_13': 320,\n",
              " 'units_14': 192}"
            ]
          },
          "metadata": {},
          "execution_count": 62
        }
      ]
    },
    {
      "cell_type": "code",
      "source": [
        "classifier2=tuner_second.get_best_models(num_models=1)[0]"
      ],
      "metadata": {
        "id": "OzhqPXTohAhk"
      },
      "execution_count": null,
      "outputs": []
    },
    {
      "cell_type": "code",
      "source": [
        "classifier2.summary()"
      ],
      "metadata": {
        "colab": {
          "base_uri": "https://localhost:8080/",
          "height": 321
        },
        "id": "YugI1GprhEht",
        "outputId": "291c1830-4e98-47ad-ae11-0e68d1c8c076"
      },
      "execution_count": null,
      "outputs": [
        {
          "output_type": "error",
          "ename": "ValueError",
          "evalue": "ignored",
          "traceback": [
            "\u001b[0;31m---------------------------------------------------------------------------\u001b[0m",
            "\u001b[0;31mValueError\u001b[0m                                Traceback (most recent call last)",
            "\u001b[0;32m<ipython-input-64-6be4506ce783>\u001b[0m in \u001b[0;36m<module>\u001b[0;34m\u001b[0m\n\u001b[0;32m----> 1\u001b[0;31m \u001b[0mclassifier2\u001b[0m\u001b[0;34m.\u001b[0m\u001b[0msummary\u001b[0m\u001b[0;34m(\u001b[0m\u001b[0;34m)\u001b[0m\u001b[0;34m\u001b[0m\u001b[0;34m\u001b[0m\u001b[0m\n\u001b[0m",
            "\u001b[0;32m/usr/local/lib/python3.8/dist-packages/keras/engine/training.py\u001b[0m in \u001b[0;36msummary\u001b[0;34m(self, line_length, positions, print_fn, expand_nested, show_trainable)\u001b[0m\n\u001b[1;32m   2867\u001b[0m     \"\"\"\n\u001b[1;32m   2868\u001b[0m     \u001b[0;32mif\u001b[0m \u001b[0;32mnot\u001b[0m \u001b[0mself\u001b[0m\u001b[0;34m.\u001b[0m\u001b[0mbuilt\u001b[0m\u001b[0;34m:\u001b[0m\u001b[0;34m\u001b[0m\u001b[0;34m\u001b[0m\u001b[0m\n\u001b[0;32m-> 2869\u001b[0;31m       raise ValueError(\n\u001b[0m\u001b[1;32m   2870\u001b[0m           \u001b[0;34m'This model has not yet been built. '\u001b[0m\u001b[0;34m\u001b[0m\u001b[0;34m\u001b[0m\u001b[0m\n\u001b[1;32m   2871\u001b[0m           \u001b[0;34m'Build the model first by calling `build()` or by calling '\u001b[0m\u001b[0;34m\u001b[0m\u001b[0;34m\u001b[0m\u001b[0m\n",
            "\u001b[0;31mValueError\u001b[0m: This model has not yet been built. Build the model first by calling `build()` or by calling the model on a batch of data."
          ]
        }
      ]
    },
    {
      "cell_type": "code",
      "source": [],
      "metadata": {
        "id": "PbwbWxg-hIEm"
      },
      "execution_count": null,
      "outputs": []
    }
  ]
}